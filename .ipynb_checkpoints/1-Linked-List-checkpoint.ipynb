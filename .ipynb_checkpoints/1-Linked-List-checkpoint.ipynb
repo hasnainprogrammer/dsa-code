{
 "cells": [
  {
   "cell_type": "code",
   "execution_count": 1,
   "id": "53f0ea41",
   "metadata": {},
   "outputs": [],
   "source": [
    "class Node:\n",
    "    def __init__(self, val):\n",
    "        self.val = val\n",
    "        self.next = None\n",
    "\n",
    "class LinkedList:\n",
    "    def __init__(self):\n",
    "        self.head = None\n",
    "        "
   ]
  },
  {
   "cell_type": "code",
   "execution_count": 2,
   "id": "c230d366",
   "metadata": {},
   "outputs": [],
   "source": [
    "def __str__(self):\n",
    "    ret_str = \"[\"\n",
    "    temp = self.head\n",
    "    while temp is not None:\n",
    "        ret_str += str(temp.val) + \", \"\n",
    "        temp = temp.next\n",
    "    ret_str = ret_str.rstrip(', ')\n",
    "    ret_str += \"]\"\n",
    "    return ret_str\n",
    "LinkedList.__str__ = __str__"
   ]
  },
  {
   "cell_type": "code",
   "execution_count": 45,
   "id": "a00b4f09",
   "metadata": {},
   "outputs": [
    {
     "name": "stdout",
     "output_type": "stream",
     "text": [
      "exec case 1\n",
      "exec case 2\n",
      "exec case 2\n",
      "exec case 2\n",
      "[10, 22, 32, 42]\n"
     ]
    }
   ],
   "source": [
    "def push(self, value):\n",
    "    new_node = Node(value)\n",
    "#   if no nodes\n",
    "    if self.head is None:\n",
    "        print('exec case 1')\n",
    "        self.head = new_node\n",
    "        return\n",
    "#     if already have nodes \n",
    "    print('exec case 2')\n",
    "    last = self.head\n",
    "    while last.next is not None:\n",
    "        last = last.next\n",
    "    last.next = new_node\n",
    "\n",
    "LinkedList.push = push\n",
    "\n",
    "l = LinkedList()\n",
    "l.push(10)\n",
    "l.push(22)\n",
    "l.push(32)\n",
    "l.push(42)\n",
    "\n",
    "print(l)"
   ]
  },
  {
   "cell_type": "code",
   "execution_count": 16,
   "id": "783ea506",
   "metadata": {},
   "outputs": [
    {
     "name": "stdout",
     "output_type": "stream",
     "text": [
      "[10]\n",
      "exec case 1\n",
      "10\n"
     ]
    },
    {
     "ename": "Exception",
     "evalue": "Linked List is empty!",
     "output_type": "error",
     "traceback": [
      "\u001b[1;31m---------------------------------------------------------------------------\u001b[0m",
      "\u001b[1;31mException\u001b[0m                                 Traceback (most recent call last)",
      "Input \u001b[1;32mIn [16]\u001b[0m, in \u001b[0;36m<cell line: 23>\u001b[1;34m()\u001b[0m\n\u001b[0;32m     21\u001b[0m \u001b[38;5;28mprint\u001b[39m(l)\n\u001b[0;32m     22\u001b[0m \u001b[38;5;28mprint\u001b[39m(l\u001b[38;5;241m.\u001b[39mpop())\n\u001b[1;32m---> 23\u001b[0m \u001b[38;5;28mprint\u001b[39m(\u001b[43ml\u001b[49m\u001b[38;5;241;43m.\u001b[39;49m\u001b[43mpop\u001b[49m\u001b[43m(\u001b[49m\u001b[43m)\u001b[49m)\n\u001b[0;32m     24\u001b[0m \u001b[38;5;28mprint\u001b[39m(l)\n",
      "Input \u001b[1;32mIn [16]\u001b[0m, in \u001b[0;36mpop\u001b[1;34m(self)\u001b[0m\n\u001b[0;32m      1\u001b[0m \u001b[38;5;28;01mdef\u001b[39;00m \u001b[38;5;21mpop\u001b[39m(\u001b[38;5;28mself\u001b[39m):\n\u001b[0;32m      2\u001b[0m     \u001b[38;5;28;01mif\u001b[39;00m \u001b[38;5;28mself\u001b[39m\u001b[38;5;241m.\u001b[39mhead \u001b[38;5;129;01mis\u001b[39;00m \u001b[38;5;28;01mNone\u001b[39;00m:\n\u001b[1;32m----> 3\u001b[0m         \u001b[38;5;28;01mraise\u001b[39;00m \u001b[38;5;167;01mException\u001b[39;00m(\u001b[38;5;124m'\u001b[39m\u001b[38;5;124mLinked List is empty!\u001b[39m\u001b[38;5;124m'\u001b[39m)\n\u001b[0;32m      4\u001b[0m \u001b[38;5;66;03m#   if one node\u001b[39;00m\n\u001b[0;32m      5\u001b[0m     \u001b[38;5;28;01mif\u001b[39;00m \u001b[38;5;28mself\u001b[39m\u001b[38;5;241m.\u001b[39mhead\u001b[38;5;241m.\u001b[39mnext \u001b[38;5;129;01mis\u001b[39;00m \u001b[38;5;28;01mNone\u001b[39;00m:\n",
      "\u001b[1;31mException\u001b[0m: Linked List is empty!"
     ]
    }
   ],
   "source": [
    "def pop(self):\n",
    "    if self.head is None:\n",
    "        raise Exception('Linked List is empty!')\n",
    "#   if one node\n",
    "    if self.head.next is None:\n",
    "        print('exec case 1')\n",
    "        value = self.head.val\n",
    "        self.head = None\n",
    "        return value\n",
    "#   if atleast two nodes\n",
    "    print('exec case 2')\n",
    "    temp = self.head\n",
    "    while temp.next is not None:\n",
    "        prev = temp\n",
    "        temp = temp.next\n",
    "    value = temp.val\n",
    "    prev.next = None\n",
    "    return value\n",
    "        \n",
    "LinkedList.pop = pop\n",
    "print(l)\n",
    "# print(l.pop())\n",
    "# print(l.pop())\n",
    "# print(l)\n"
   ]
  },
  {
   "cell_type": "code",
   "execution_count": 42,
   "id": "48ce4ce0",
   "metadata": {},
   "outputs": [
    {
     "name": "stdout",
     "output_type": "stream",
     "text": [
      "[]\n"
     ]
    }
   ],
   "source": [
    "def insert(self, index, value):\n",
    "    new_node = Node(value)\n",
    "#   if insert at 0\n",
    "    if index == 0:\n",
    "        print('exec case 1')    \n",
    "        new_node.next = self.head\n",
    "        self.head = new_node\n",
    "        return\n",
    "#   if insert b/w any two positions\n",
    "    print('exec case 2')\n",
    "    counter = 0\n",
    "    temp = self.head\n",
    "    while temp is not None and  counter < index:\n",
    "        prev = temp\n",
    "        temp = temp.next\n",
    "        counter += 1\n",
    "    prev.next = new_node\n",
    "    new_node.next = temp\n",
    "    \n",
    "LinkedList.insert = insert\n",
    "# l.insert(0, 1000)\n",
    "# l.insert(15, 6000)\n",
    "print(l)"
   ]
  },
  {
   "cell_type": "code",
   "execution_count": 56,
   "id": "b7a923c8",
   "metadata": {},
   "outputs": [
    {
     "name": "stdout",
     "output_type": "stream",
     "text": [
      "exec case 2\n"
     ]
    },
    {
     "ename": "Exception",
     "evalue": "Value not found!",
     "output_type": "error",
     "traceback": [
      "\u001b[1;31m---------------------------------------------------------------------------\u001b[0m",
      "\u001b[1;31mException\u001b[0m                                 Traceback (most recent call last)",
      "Input \u001b[1;32mIn [56]\u001b[0m, in \u001b[0;36m<cell line: 30>\u001b[1;34m()\u001b[0m\n\u001b[0;32m     27\u001b[0m LinkedList\u001b[38;5;241m.\u001b[39mremove \u001b[38;5;241m=\u001b[39m remove\n\u001b[0;32m     29\u001b[0m \u001b[38;5;66;03m# print(l.remove(10))\u001b[39;00m\n\u001b[1;32m---> 30\u001b[0m \u001b[38;5;28mprint\u001b[39m(\u001b[43ml\u001b[49m\u001b[38;5;241;43m.\u001b[39;49m\u001b[43mremove\u001b[49m\u001b[43m(\u001b[49m\u001b[38;5;241;43m1000\u001b[39;49m\u001b[43m)\u001b[49m)\n\u001b[0;32m     31\u001b[0m \u001b[38;5;28mprint\u001b[39m(l)\n",
      "Input \u001b[1;32mIn [56]\u001b[0m, in \u001b[0;36mremove\u001b[1;34m(self, value)\u001b[0m\n\u001b[0;32m     17\u001b[0m     temp \u001b[38;5;241m=\u001b[39m temp\u001b[38;5;241m.\u001b[39mnext\n\u001b[0;32m     19\u001b[0m \u001b[38;5;28;01mif\u001b[39;00m value \u001b[38;5;241m!=\u001b[39m temp\u001b[38;5;241m.\u001b[39mval:\n\u001b[1;32m---> 20\u001b[0m     \u001b[38;5;28;01mraise\u001b[39;00m \u001b[38;5;167;01mException\u001b[39;00m(\u001b[38;5;124m'\u001b[39m\u001b[38;5;124mValue not found!\u001b[39m\u001b[38;5;124m'\u001b[39m)\n\u001b[0;32m     22\u001b[0m val \u001b[38;5;241m=\u001b[39m temp\u001b[38;5;241m.\u001b[39mval\n\u001b[0;32m     23\u001b[0m prev\u001b[38;5;241m.\u001b[39mnext \u001b[38;5;241m=\u001b[39m temp\u001b[38;5;241m.\u001b[39mnext\n",
      "\u001b[1;31mException\u001b[0m: Value not found!"
     ]
    }
   ],
   "source": [
    "def remove(self, value):\n",
    "    if self.head is None:\n",
    "        raise Exception('List is empty!')\n",
    "#  if the value exists in the first place\n",
    "    if value == self.head.val:\n",
    "        print('exec case 1')\n",
    "        val = self.head.val\n",
    "        self.head = self.head.next\n",
    "        return val\n",
    "#  if to remove from any position\n",
    "    print('exec case 2')\n",
    "    temp = self.head\n",
    "    while temp.next is not None:\n",
    "        if value == temp.val:\n",
    "            break\n",
    "        prev = temp\n",
    "        temp = temp.next\n",
    "        \n",
    "    if value != temp.val:\n",
    "        raise Exception('Value not found!')\n",
    "        \n",
    "    val = temp.val\n",
    "    prev.next = temp.next\n",
    "    return val\n",
    "\n",
    "    \n",
    "LinkedList.remove = remove\n",
    "\n",
    "# print(l.remove(10))\n",
    "print(l.remove(1000))\n",
    "print(l)"
   ]
  },
  {
   "cell_type": "code",
   "execution_count": 5,
   "id": "8b1e4d77",
   "metadata": {
    "scrolled": true
   },
   "outputs": [
    {
     "name": "stdout",
     "output_type": "stream",
     "text": [
      "2\n"
     ]
    }
   ],
   "source": [
    "def len(self):\n",
    "    counter = 0\n",
    "    temp = self.head\n",
    "    while temp is not None:\n",
    "        temp = temp.next\n",
    "        counter += 1\n",
    "    return counter\n",
    "\n",
    "LinkedList.len = len\n",
    "\n",
    "print(l.len())"
   ]
  },
  {
   "cell_type": "code",
   "execution_count": 6,
   "id": "4a220412",
   "metadata": {},
   "outputs": [
    {
     "name": "stdout",
     "output_type": "stream",
     "text": [
      "[10, 22]\n"
     ]
    },
    {
     "ename": "IndexError",
     "evalue": "Invalid Index. Index out of range!",
     "output_type": "error",
     "traceback": [
      "\u001b[1;31m---------------------------------------------------------------------------\u001b[0m",
      "\u001b[1;31mIndexError\u001b[0m                                Traceback (most recent call last)",
      "Input \u001b[1;32mIn [6]\u001b[0m, in \u001b[0;36m<cell line: 15>\u001b[1;34m()\u001b[0m\n\u001b[0;32m     12\u001b[0m LinkedList\u001b[38;5;241m.\u001b[39mget \u001b[38;5;241m=\u001b[39m get\n\u001b[0;32m     14\u001b[0m \u001b[38;5;28mprint\u001b[39m(l)      \n\u001b[1;32m---> 15\u001b[0m \u001b[38;5;28mprint\u001b[39m(\u001b[43ml\u001b[49m\u001b[38;5;241;43m.\u001b[39;49m\u001b[43mget\u001b[49m\u001b[43m(\u001b[49m\u001b[38;5;241;43m2\u001b[39;49m\u001b[43m)\u001b[49m)\n",
      "Input \u001b[1;32mIn [6]\u001b[0m, in \u001b[0;36mget\u001b[1;34m(self, index)\u001b[0m\n\u001b[0;32m      1\u001b[0m \u001b[38;5;28;01mdef\u001b[39;00m \u001b[38;5;21mget\u001b[39m(\u001b[38;5;28mself\u001b[39m, index):\n\u001b[0;32m      2\u001b[0m     \u001b[38;5;28;01mif\u001b[39;00m index \u001b[38;5;241m>\u001b[39m \u001b[38;5;28mself\u001b[39m\u001b[38;5;241m.\u001b[39mlen() \u001b[38;5;241m-\u001b[39m \u001b[38;5;241m1\u001b[39m:\n\u001b[1;32m----> 3\u001b[0m         \u001b[38;5;28;01mraise\u001b[39;00m \u001b[38;5;167;01mIndexError\u001b[39;00m(\u001b[38;5;124m'\u001b[39m\u001b[38;5;124mInvalid Index. Index out of range!\u001b[39m\u001b[38;5;124m'\u001b[39m)\n\u001b[0;32m      4\u001b[0m     counter \u001b[38;5;241m=\u001b[39m \u001b[38;5;241m0\u001b[39m\n\u001b[0;32m      5\u001b[0m     temp \u001b[38;5;241m=\u001b[39m \u001b[38;5;28mself\u001b[39m\u001b[38;5;241m.\u001b[39mhead\n",
      "\u001b[1;31mIndexError\u001b[0m: Invalid Index. Index out of range!"
     ]
    }
   ],
   "source": [
    "def get(self, index):\n",
    "    if index > self.len() - 1:\n",
    "        raise IndexError('Invalid Index. Index out of range!')\n",
    "    counter = 0\n",
    "    temp = self.head\n",
    "    while temp is not None and counter < index:\n",
    "        temp = temp.next\n",
    "        counter += 1\n",
    "        \n",
    "    return temp.val\n",
    "        \n",
    "LinkedList.get = get\n",
    "\n",
    "print(l)      \n",
    "print(l.get(2))"
   ]
  },
  {
   "cell_type": "code",
   "execution_count": 57,
   "id": "9f261708",
   "metadata": {},
   "outputs": [],
   "source": [
    "def remove_at(self, index):\n",
    "    if self.head is None:\n",
    "        raise Exception('Cannot Remove! lis is empty.')\n",
    "    if index == 0:\n",
    "        self.head = self.head.next\n",
    "        return\n",
    "    counter = 0\n",
    "    temp = self.head\n",
    "    while temp is not None and counter < index:\n",
    "        prev = temp\n",
    "        temp = temp.next\n",
    "        counter +=1\n",
    "    if prev.next is not None:\n",
    "        prev.next = temp.next\n",
    "    \n",
    "LinkedList.remove_at = remove_at"
   ]
  },
  {
   "cell_type": "code",
   "execution_count": 58,
   "id": "87d782e4",
   "metadata": {},
   "outputs": [
    {
     "name": "stdout",
     "output_type": "stream",
     "text": [
      "[22, 42]\n",
      "[22, 42]\n"
     ]
    }
   ],
   "source": [
    "print(l)\n",
    "l.remove_at(4)\n",
    "print(l)"
   ]
  }
 ],
 "metadata": {
  "kernelspec": {
   "display_name": "Python 3 (ipykernel)",
   "language": "python",
   "name": "python3"
  },
  "language_info": {
   "codemirror_mode": {
    "name": "ipython",
    "version": 3
   },
   "file_extension": ".py",
   "mimetype": "text/x-python",
   "name": "python",
   "nbconvert_exporter": "python",
   "pygments_lexer": "ipython3",
   "version": "3.10.4"
  }
 },
 "nbformat": 4,
 "nbformat_minor": 5
}
