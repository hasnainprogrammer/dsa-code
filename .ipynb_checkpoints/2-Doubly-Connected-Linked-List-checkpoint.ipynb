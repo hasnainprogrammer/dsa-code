{
 "cells": [
  {
   "cell_type": "code",
   "execution_count": 1,
   "id": "5c2c1279",
   "metadata": {},
   "outputs": [],
   "source": [
    "class Node:\n",
    "    def __init__(self, val):\n",
    "        self.val = val\n",
    "        self.next = None\n",
    "        self.prev = None\n",
    "        \n",
    "class Doubly:\n",
    "    def __init__(self):\n",
    "        self.head = None"
   ]
  },
  {
   "cell_type": "code",
   "execution_count": 2,
   "id": "0f31894f",
   "metadata": {},
   "outputs": [],
   "source": [
    "l = Doubly()"
   ]
  },
  {
   "cell_type": "code",
   "execution_count": 3,
   "id": "520b4e03",
   "metadata": {},
   "outputs": [],
   "source": [
    "def __str__(self):\n",
    "    ret = '['\n",
    "    temp = self.head\n",
    "    while temp is not None:\n",
    "        ret += str(temp.val) + ', '\n",
    "        temp = temp.next\n",
    "    ret += ']'\n",
    "    return ret\n",
    "\n",
    "Doubly.__str__ = __str__"
   ]
  },
  {
   "cell_type": "code",
   "execution_count": 4,
   "id": "c068934b",
   "metadata": {},
   "outputs": [
    {
     "name": "stdout",
     "output_type": "stream",
     "text": [
      "[]\n",
      "Exec case 1\n",
      "[30, ]\n"
     ]
    }
   ],
   "source": [
    "def push(self, value):\n",
    "    new_node = Node(value)\n",
    "#   if linked list is empty\n",
    "    if self.head is None:\n",
    "        print('Exec case 1')\n",
    "        self.head = new_node\n",
    "        return \n",
    "#   if at least one node\n",
    "    print('Exec case 2')\n",
    "    last = self.head\n",
    "    while last.next is not None:\n",
    "        last = last.next\n",
    "    last.next = new_node\n",
    "    new_node.prev = last\n",
    "    \n",
    "Doubly.push = push \n",
    "print(l)\n",
    "# l.push(10)\n",
    "# l.push(20)\n",
    "l.push(30)\n",
    "print(l)"
   ]
  },
  {
   "cell_type": "code",
   "execution_count": 5,
   "id": "e664d725",
   "metadata": {},
   "outputs": [
    {
     "name": "stdout",
     "output_type": "stream",
     "text": [
      "[30, ]\n",
      "Exec case 1\n",
      "[]\n"
     ]
    }
   ],
   "source": [
    "def pop(self):\n",
    "    if self.head is None:\n",
    "        raise Exception('No nodes to pop')\n",
    "#   if exactly one node\n",
    "    if self.head.next is None:\n",
    "        print('Exec case 1')\n",
    "        self.head = None\n",
    "        return\n",
    "#   if atleast two nodes\n",
    "    print('Exec case 2')\n",
    "    temp = self.head\n",
    "    while temp.next is not None:\n",
    "#         prev = temp\n",
    "        temp = temp.next\n",
    "        \n",
    "    prev.next = None\n",
    "        \n",
    "Doubly.pop = pop\n",
    "print(l)\n",
    "l.pop()\n",
    "print(l)"
   ]
  },
  {
   "cell_type": "code",
   "execution_count": 6,
   "id": "afab39c3",
   "metadata": {},
   "outputs": [
    {
     "name": "stdout",
     "output_type": "stream",
     "text": [
      "[]\n",
      "Exec case 1\n",
      "[600, ]\n"
     ]
    }
   ],
   "source": [
    "def insert(self, index, value):\n",
    "    new_node = Node(value)\n",
    "#   insert at index 0\n",
    "    if index == 0:\n",
    "        print('Exec case 1')\n",
    "        new_node.next = self.head \n",
    "        if self.head is not None:\n",
    "            self.head.prev = new_node\n",
    "            \n",
    "        self.head = new_node\n",
    "        return \n",
    "#   if insert b/w any two nodes\n",
    "    print('Exec case 2')\n",
    "    temp = self.head\n",
    "    counter = 0\n",
    "    while temp is not None and counter < index:\n",
    "        prev = temp\n",
    "        temp = temp.next\n",
    "        counter += 1\n",
    "    prev.next = new_node\n",
    "    new_node.prev = prev\n",
    "    new_node.next = temp\n",
    "    if temp is not None:\n",
    "        temp.prev = new_node\n",
    "    \n",
    "Doubly.insert = insert\n",
    "print(l)\n",
    "l.insert(0, 600)\n",
    "print(l)"
   ]
  },
  {
   "cell_type": "code",
   "execution_count": 7,
   "id": "5e74ed4b",
   "metadata": {},
   "outputs": [
    {
     "name": "stdout",
     "output_type": "stream",
     "text": [
      "[600, ]\n",
      "Exec case 2\n"
     ]
    },
    {
     "ename": "AttributeError",
     "evalue": "'NoneType' object has no attribute 'next'",
     "output_type": "error",
     "traceback": [
      "\u001b[1;31m---------------------------------------------------------------------------\u001b[0m",
      "\u001b[1;31mAttributeError\u001b[0m                            Traceback (most recent call last)",
      "Input \u001b[1;32mIn [7]\u001b[0m, in \u001b[0;36m<cell line: 26>\u001b[1;34m()\u001b[0m\n\u001b[0;32m     23\u001b[0m Doubly\u001b[38;5;241m.\u001b[39mremove \u001b[38;5;241m=\u001b[39m remove\n\u001b[0;32m     25\u001b[0m \u001b[38;5;28mprint\u001b[39m(l)    \n\u001b[1;32m---> 26\u001b[0m \u001b[43ml\u001b[49m\u001b[38;5;241;43m.\u001b[39;49m\u001b[43mremove\u001b[49m\u001b[43m(\u001b[49m\u001b[38;5;241;43m75\u001b[39;49m\u001b[43m)\u001b[49m\n\u001b[0;32m     27\u001b[0m \u001b[38;5;28mprint\u001b[39m(l)\n",
      "Input \u001b[1;32mIn [7]\u001b[0m, in \u001b[0;36mremove\u001b[1;34m(self, value)\u001b[0m\n\u001b[0;32m     16\u001b[0m     prev \u001b[38;5;241m=\u001b[39m temp\n\u001b[0;32m     17\u001b[0m     temp \u001b[38;5;241m=\u001b[39m temp\u001b[38;5;241m.\u001b[39mnext\n\u001b[1;32m---> 19\u001b[0m prev\u001b[38;5;241m.\u001b[39mnext \u001b[38;5;241m=\u001b[39m \u001b[43mtemp\u001b[49m\u001b[38;5;241;43m.\u001b[39;49m\u001b[43mnext\u001b[49m \n\u001b[0;32m     20\u001b[0m \u001b[38;5;28;01mif\u001b[39;00m temp\u001b[38;5;241m.\u001b[39mnext \u001b[38;5;129;01mis\u001b[39;00m \u001b[38;5;129;01mnot\u001b[39;00m \u001b[38;5;28;01mNone\u001b[39;00m:\n\u001b[0;32m     21\u001b[0m     temp\u001b[38;5;241m.\u001b[39mnext\u001b[38;5;241m.\u001b[39mprev \u001b[38;5;241m=\u001b[39m prev\n",
      "\u001b[1;31mAttributeError\u001b[0m: 'NoneType' object has no attribute 'next'"
     ]
    }
   ],
   "source": [
    "def remove(self, value):\n",
    "    if self.head is None:\n",
    "        raise Exception('No nodes to remove')\n",
    "#  if match the first node\n",
    "    if value == self.head.val:\n",
    "        print('Exec case 1')\n",
    "        self.head = self.head.next\n",
    "        self.head.prev = None\n",
    "        return\n",
    "# if match other than starting node\n",
    "    print('Exec case 2')\n",
    "    temp = self.head\n",
    "    while temp is not None:\n",
    "        if value == temp.val:\n",
    "            break\n",
    "        prev = temp\n",
    "        temp = temp.next\n",
    "    \n",
    "    prev.next = temp.next \n",
    "    if temp.next is not None:\n",
    "        temp.next.prev = prev\n",
    "        \n",
    "Doubly.remove = remove\n",
    "\n",
    "print(l)    \n",
    "l.remove(75)\n",
    "print(l)"
   ]
  },
  {
   "cell_type": "markdown",
   "id": "d61b9462",
   "metadata": {},
   "source": [
    "### We can achieve push via insert and len functions\n",
    "### e.g:- insert(self.len(), value)"
   ]
  },
  {
   "cell_type": "code",
   "execution_count": 13,
   "id": "075629ea",
   "metadata": {},
   "outputs": [
    {
     "name": "stdout",
     "output_type": "stream",
     "text": [
      "6\n",
      "[600, 5000, 5000, 5000, 5000, 5000, ]\n",
      "Exec case 2\n",
      "[600, 5000, 5000, 5000, 5000, 5000, 5000, ]\n"
     ]
    }
   ],
   "source": [
    "def len(self):\n",
    "    temp = self.head\n",
    "    counter = 0\n",
    "    while temp is not None:\n",
    "        temp = temp.next\n",
    "        counter += 1\n",
    "    return counter\n",
    "\n",
    "Doubly.len = len\n",
    "# print(l)\n",
    "print(l.len())\n",
    "\n",
    "def push_new(self, value):\n",
    "    self.insert(self.len(), value)\n",
    "\n",
    "Doubly.push_new = push_new\n",
    "print(l)\n",
    "l.push_new(5000)\n",
    "print(l)"
   ]
  }
 ],
 "metadata": {
  "kernelspec": {
   "display_name": "Python 3 (ipykernel)",
   "language": "python",
   "name": "python3"
  },
  "language_info": {
   "codemirror_mode": {
    "name": "ipython",
    "version": 3
   },
   "file_extension": ".py",
   "mimetype": "text/x-python",
   "name": "python",
   "nbconvert_exporter": "python",
   "pygments_lexer": "ipython3",
   "version": "3.10.4"
  }
 },
 "nbformat": 4,
 "nbformat_minor": 5
}
