{
 "cells": [
  {
   "cell_type": "code",
   "execution_count": 1,
   "id": "00b1d8fe",
   "metadata": {},
   "outputs": [],
   "source": [
    "class WeightedDiGraph:\n",
    "    def __init__(self):\n",
    "        self.g = {}\n",
    "    def add_node(self, node):\n",
    "        if node in self.g:\n",
    "            raise ValueError('Node already exists')\n",
    "            \n",
    "        self.g[node] = []\n",
    "        \n",
    "    def add_edge(self, src, dest, weight):\n",
    "        if src not in self.g:\n",
    "            raise ValueError('Source node not in graph')\n",
    "        if dest not in self.g:\n",
    "            raise ValueError('Destination node not in graph')\n",
    "            \n",
    "        nexts = self.g[src]\n",
    "        if dest in nexts:\n",
    "            return\n",
    "        \n",
    "        nexts.append((dest, weight))\n",
    "            "
   ]
  },
  {
   "cell_type": "code",
   "execution_count": 4,
   "id": "c312578c",
   "metadata": {},
   "outputs": [],
   "source": [
    "g = WeightedDiGraph()\n",
    "nodes = ['a', 'b', 'c', 'd', 'e']\n",
    "for n in nodes:\n",
    "    g.add_node(n)\n",
    "    \n",
    "edges = [\n",
    "    ('a', 'b', 4),\n",
    "    ('a', 'c', 1),\n",
    "    ('b', 'd', 8),\n",
    "    ('c', 'e', 25),\n",
    "    ('e', 'd', 3),\n",
    "]\n",
    "for e in edges:\n",
    "    g.add_edge(e[0], e[1], e[2])"
   ]
  },
  {
   "cell_type": "code",
   "execution_count": 6,
   "id": "a187b183",
   "metadata": {},
   "outputs": [
    {
     "name": "stdout",
     "output_type": "stream",
     "text": [
      "{'a': [('b', 4), ('c', 1)], 'b': [('d', 8)], 'c': [('e', 25)], 'd': [], 'e': [('d', 3)]}\n"
     ]
    }
   ],
   "source": [
    "print(g.g)"
   ]
  },
  {
   "cell_type": "code",
   "execution_count": 57,
   "id": "6c21cc64",
   "metadata": {},
   "outputs": [],
   "source": [
    "def djikstra_shortest_path(self, src):\n",
    "    is_visited = list(self.g.keys())\n",
    "    inf = float('inf')\n",
    "    dists = {node: inf for node in is_visited}\n",
    "    dists[src] = 0\n",
    "    \n",
    "    while is_visited:\n",
    "        print('--------------------')\n",
    "        current = min(is_visited, key=lambda x: dists[x])\n",
    "        \n",
    "        if dists[current] == 'inf':\n",
    "            break\n",
    "        \n",
    "        nexts = self.g[current]\n",
    "        unvisited_neighbours = []\n",
    "        \n",
    "        for n in nexts:\n",
    "            if n[0] in is_visited:\n",
    "                unvisited_neighbours.append(n)\n",
    "                \n",
    "        for n in unvisited_neighbours:\n",
    "            label = n[0]\n",
    "            dist_to = n[1]\n",
    "            \n",
    "            old_distance = dists[label]\n",
    "            new_distance = dists[current] + dist_to\n",
    "            \n",
    "            if new_distance < old_distance:\n",
    "                dists[label] = new_distance\n",
    "            \n",
    "        \n",
    "        print('All distances' + str(dists))\n",
    "        is_visited.remove(current)\n",
    "        \n",
    "\n",
    "        \n",
    "WeightedDiGraph.djikstra_shortest_path = djikstra_shortest_path"
   ]
  },
  {
   "cell_type": "code",
   "execution_count": 58,
   "id": "8155f072",
   "metadata": {},
   "outputs": [
    {
     "name": "stdout",
     "output_type": "stream",
     "text": [
      "--------------------\n",
      "All distances{'a': 0, 'b': 4, 'c': 1, 'd': inf, 'e': inf}\n",
      "--------------------\n",
      "All distances{'a': 0, 'b': 4, 'c': 1, 'd': inf, 'e': 26}\n",
      "--------------------\n",
      "All distances{'a': 0, 'b': 4, 'c': 1, 'd': 12, 'e': 26}\n",
      "--------------------\n",
      "All distances{'a': 0, 'b': 4, 'c': 1, 'd': 12, 'e': 26}\n",
      "--------------------\n",
      "All distances{'a': 0, 'b': 4, 'c': 1, 'd': 12, 'e': 26}\n"
     ]
    }
   ],
   "source": [
    "g.djikstra_shortest_path('a')"
   ]
  }
 ],
 "metadata": {
  "kernelspec": {
   "display_name": "Python 3 (ipykernel)",
   "language": "python",
   "name": "python3"
  },
  "language_info": {
   "codemirror_mode": {
    "name": "ipython",
    "version": 3
   },
   "file_extension": ".py",
   "mimetype": "text/x-python",
   "name": "python",
   "nbconvert_exporter": "python",
   "pygments_lexer": "ipython3",
   "version": "3.10.4"
  }
 },
 "nbformat": 4,
 "nbformat_minor": 5
}
