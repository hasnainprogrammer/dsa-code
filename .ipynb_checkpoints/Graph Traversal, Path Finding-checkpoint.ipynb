{
 "cells": [
  {
   "cell_type": "code",
   "execution_count": 1,
   "id": "4f64ee7f",
   "metadata": {},
   "outputs": [
    {
     "name": "stdout",
     "output_type": "stream",
     "text": [
      "{'a': ['b'], 'b': ['a', 'c'], 'c': []}\n"
     ]
    }
   ],
   "source": [
    "class DiGraph:\n",
    "    def __init__(self):\n",
    "        self.g = {}\n",
    "    def add_node(self, node):\n",
    "        if node in self.g:\n",
    "            raise ValueError('Node already exists')\n",
    "            \n",
    "        self.g[node] = []\n",
    "        \n",
    "    def add_edge(self, src, dest):\n",
    "        if src not in self.g:\n",
    "            raise ValueError('Source node not in graph')\n",
    "        if dest not in self.g:\n",
    "            raise ValueError('Destination node not in graph')\n",
    "            \n",
    "        nexts = self.g[src]\n",
    "        if dest in nexts:\n",
    "            return\n",
    "        \n",
    "        nexts.append(dest)\n",
    "            \n",
    "g = DiGraph()\n",
    "# g.add_node('a')\n",
    "# g.add_node('b')\n",
    "\n",
    "# g.add_node('b') # ValueError\n",
    "\n",
    "# g.add_node('c')\n",
    "# g.add_edge('a', 'b')\n",
    "# g.add_edge('a', 'c')\n",
    "\n",
    "# g.add_edge('z', 'b') # ValueError\n",
    "\n",
    "# BETTER WAY OF ADDING A NODES\n",
    "# nodes = ['a', 'b', 'c', 'd']\n",
    "# for node in nodes:\n",
    "#     g.add_node(node)\n",
    "    \n",
    "# edges = [\n",
    "#     ('a', 'b'),\n",
    "#     ('a', 'c'), \n",
    "#     ('b', 'c'),\n",
    "#     ('c', 'd')\n",
    "# ]\n",
    "# for e in edges:\n",
    "#     g.add_edge(e[0], e[1])\n",
    "\n",
    "# GRAPH HAVING CYCLE\n",
    "nodes = ['a', 'b', 'c']\n",
    "for node in nodes:\n",
    "    g.add_node(node)\n",
    "    \n",
    "edges = [\n",
    "    ('a', 'b'),\n",
    "    ('b', 'a'), \n",
    "    ('b', 'c'),\n",
    "]\n",
    "for e in edges:\n",
    "    g.add_edge(e[0], e[1])\n",
    "print(g.g)\n"
   ]
  },
  {
   "cell_type": "code",
   "execution_count": 2,
   "id": "af79c345",
   "metadata": {},
   "outputs": [
    {
     "name": "stdout",
     "output_type": "stream",
     "text": [
      "a\n",
      "b\n",
      "c\n"
     ]
    }
   ],
   "source": [
    "def bfs(self, start_node):\n",
    "    q = [start_node]\n",
    "    visited = []\n",
    "    \n",
    "    while q:\n",
    "        current = q.pop(0)   \n",
    "        if current in visited:\n",
    "            continue\n",
    "            \n",
    "        print(current)\n",
    "        \n",
    "        visited.append(current)\n",
    "        \n",
    "        next_nodes = self.g[current]\n",
    "        for n in next_nodes:\n",
    "            q.append(n)\n",
    "        \n",
    "DiGraph.bfs = bfs\n",
    "g.bfs('a')"
   ]
  },
  {
   "cell_type": "code",
   "execution_count": 1,
   "id": "cb7958aa",
   "metadata": {},
   "outputs": [
    {
     "ename": "NameError",
     "evalue": "name 'DiGraph' is not defined",
     "output_type": "error",
     "traceback": [
      "\u001b[1;31m---------------------------------------------------------------------------\u001b[0m",
      "\u001b[1;31mNameError\u001b[0m                                 Traceback (most recent call last)",
      "Input \u001b[1;32mIn [1]\u001b[0m, in \u001b[0;36m<cell line: 25>\u001b[1;34m()\u001b[0m\n\u001b[0;32m     22\u001b[0m     \u001b[38;5;66;03m# if no path can be found from any of the next nodes to the end, there's no path! \u001b[39;00m\n\u001b[0;32m     23\u001b[0m     \u001b[38;5;28;01mreturn\u001b[39;00m \u001b[38;5;28;01mNone\u001b[39;00m\n\u001b[1;32m---> 25\u001b[0m \u001b[43mDiGraph\u001b[49m\u001b[38;5;241m.\u001b[39mpath_finding \u001b[38;5;241m=\u001b[39m path_finding\n\u001b[0;32m     26\u001b[0m \u001b[38;5;28mprint\u001b[39m(g\u001b[38;5;241m.\u001b[39mpath_finding(\u001b[38;5;124m'\u001b[39m\u001b[38;5;124ma\u001b[39m\u001b[38;5;124m'\u001b[39m, \u001b[38;5;124m'\u001b[39m\u001b[38;5;124mc\u001b[39m\u001b[38;5;124m'\u001b[39m))\n",
      "\u001b[1;31mNameError\u001b[0m: name 'DiGraph' is not defined"
     ]
    }
   ],
   "source": [
    "def path_finding(self, start, end, path=[]):\n",
    "    # Sanity checks\n",
    "    if start not in self.g or end not in self.g:\n",
    "        raise ValueError('Source or Destination not exits')\n",
    "    \n",
    "    # save the path we have traversed till now\n",
    "    path.append(start)\n",
    "    \n",
    "    # base case\n",
    "    if start == end:\n",
    "        return path\n",
    "    \n",
    "    # recursive case\n",
    "    nexts = self.g[start]\n",
    "    for node in nexts:\n",
    "        # need to avoid cycles\n",
    "        if node not in path:\n",
    "            # find path from next node to dest\n",
    "            new_path = self.path_finding(node, end, path)\n",
    "            if new_path:\n",
    "                return new_path\n",
    "    # if no path can be found from any of the next nodes to the end, there's no path! \n",
    "    return None\n",
    "    \n",
    "DiGraph.path_finding = path_finding\n",
    "print(g.path_finding('a', 'c'))"
   ]
  },
  {
   "cell_type": "code",
   "execution_count": 2,
   "id": "3f442b34",
   "metadata": {},
   "outputs": [],
   "source": [
    "def all_paths(self):\n",
    "    pass"
   ]
  },
  {
   "cell_type": "code",
   "execution_count": 3,
   "id": "e62e9c88",
   "metadata": {},
   "outputs": [],
   "source": [
    "def shortest_path(self):\n",
    "    path"
   ]
  }
 ],
 "metadata": {
  "kernelspec": {
   "display_name": "Python 3 (ipykernel)",
   "language": "python",
   "name": "python3"
  },
  "language_info": {
   "codemirror_mode": {
    "name": "ipython",
    "version": 3
   },
   "file_extension": ".py",
   "mimetype": "text/x-python",
   "name": "python",
   "nbconvert_exporter": "python",
   "pygments_lexer": "ipython3",
   "version": "3.10.4"
  }
 },
 "nbformat": 4,
 "nbformat_minor": 5
}
