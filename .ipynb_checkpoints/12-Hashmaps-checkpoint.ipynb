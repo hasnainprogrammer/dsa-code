{
 "cells": [
  {
   "cell_type": "code",
   "execution_count": 1,
   "id": "02a70a57",
   "metadata": {},
   "outputs": [],
   "source": [
    "class HashMap:\n",
    "    def __init__(self):\n",
    "        self.size = 10\n",
    "        self.map = [None] * self.size"
   ]
  },
  {
   "cell_type": "code",
   "execution_count": 6,
   "id": "13afa3cd",
   "metadata": {},
   "outputs": [],
   "source": [
    "h = HashMap()"
   ]
  },
  {
   "cell_type": "code",
   "execution_count": 7,
   "id": "fa3e44c0",
   "metadata": {},
   "outputs": [],
   "source": [
    "def _get_hash(self, key):\n",
    "    return key % self.size\n",
    "\n",
    "HashMap._get_hash = _get_hash"
   ]
  },
  {
   "cell_type": "code",
   "execution_count": 8,
   "id": "1adad8ee",
   "metadata": {},
   "outputs": [],
   "source": [
    "def add(self, key, value):\n",
    "    key_hash = self._get_hash(key)\n",
    "    key_value = [key, value]\n",
    "    self.map[key_hash] = [key_value]\n",
    "    return True\n",
    "\n",
    "HashMap.add = add"
   ]
  },
  {
   "cell_type": "code",
   "execution_count": 18,
   "id": "240cf16b",
   "metadata": {},
   "outputs": [
    {
     "data": {
      "text/plain": [
       "True"
      ]
     },
     "execution_count": 18,
     "metadata": {},
     "output_type": "execute_result"
    }
   ],
   "source": [
    "# h.add(15, 'Fifteen')\n",
    "h.add(12, 'Twelve')"
   ]
  },
  {
   "cell_type": "code",
   "execution_count": 13,
   "id": "8d3dba9f",
   "metadata": {},
   "outputs": [],
   "source": [
    "def get(self, key):\n",
    "    key_hash = self._get_hash(key)\n",
    "    if self.map[key_hash] is not None:\n",
    "        for pair in self.map[key_hash]:\n",
    "            if pair[0] == key:\n",
    "                return pair[1]\n",
    "    raise KeyError(str(key))\n",
    "    \n",
    "HashMap.get = get"
   ]
  },
  {
   "cell_type": "code",
   "execution_count": 22,
   "id": "0ec36f7a",
   "metadata": {},
   "outputs": [
    {
     "data": {
      "text/plain": [
       "'Twelve'"
      ]
     },
     "execution_count": 22,
     "metadata": {},
     "output_type": "execute_result"
    }
   ],
   "source": [
    "h.get(12)"
   ]
  },
  {
   "cell_type": "code",
   "execution_count": 23,
   "id": "4ed79dca",
   "metadata": {},
   "outputs": [],
   "source": [
    "def __str__(self):\n",
    "    ret = ''\n",
    "    for i, item in enumerate(self.map):\n",
    "        if item is not None:\n",
    "            ret += str(i) + \": \" + str(item) + '\\n'\n",
    "    return ret\n",
    "\n",
    "HashMap.__str__ = __str__"
   ]
  },
  {
   "cell_type": "code",
   "execution_count": 25,
   "id": "418ad769",
   "metadata": {},
   "outputs": [
    {
     "name": "stdout",
     "output_type": "stream",
     "text": [
      "2: [[12, 'Twelve']]\n",
      "5: [[15, 'Fifteen']]\n",
      "\n"
     ]
    }
   ],
   "source": [
    "print(h)"
   ]
  },
  {
   "cell_type": "code",
   "execution_count": 29,
   "id": "9867c8aa",
   "metadata": {},
   "outputs": [
    {
     "name": "stdout",
     "output_type": "stream",
     "text": [
      "3: [[23, 'Twenty Three']]\n",
      "5: [[35, 'Thirty Five']]\n",
      "6: [[16, 'Sixteen Updated']]\n",
      "\n"
     ]
    }
   ],
   "source": [
    "# Collisions\n",
    "h = HashMap()\n",
    "h.add(16, 'Sixteen') \n",
    "h.add(16, 'Sixteen Updated') # will simply update the existing key, value pair\n",
    "\n",
    "h.add(25, 'Twenty Five')\n",
    "h.add(13, 'Thirteen')\n",
    "h.add(35, 'Thirty Five')\n",
    "h.add(23, 'Twenty Three')\n",
    "\n",
    "print(h)"
   ]
  },
  {
   "cell_type": "code",
   "execution_count": 30,
   "id": "d2528daf",
   "metadata": {},
   "outputs": [],
   "source": [
    "# Avoiding Collisions\n",
    "def add(self, key, value):\n",
    "    key_hash = self._get_hash(key)\n",
    "    key_value = [key, value]\n",
    "    \n",
    "    if self.map[key_hash] is None:\n",
    "        self.map[key_hash] = [key_value]\n",
    "        return True\n",
    "    else:\n",
    "        # check if it is an update\n",
    "        for pair in self.map[key_hash]:\n",
    "            if pair[0] == key:\n",
    "                pair[1] = value\n",
    "                return True\n",
    "        # nope, it's a collision: insert it\n",
    "        self.map[key_hash].append(key_value)\n",
    "        return True\n",
    "HashMap.add = add"
   ]
  },
  {
   "cell_type": "code",
   "execution_count": 32,
   "id": "7b6b2dbb",
   "metadata": {},
   "outputs": [
    {
     "name": "stdout",
     "output_type": "stream",
     "text": [
      "5: [[25, 'Twenty Five'], [35, 'Thirty Five']]\n",
      "6: [[16, 'Sixteen Updated']]\n",
      "\n"
     ]
    }
   ],
   "source": [
    "h = HashMap()\n",
    "h.add(16, 'Sixteen') \n",
    "h.add(16, 'Sixteen Updated')\n",
    "\n",
    "h.add(25, 'Twenty Five')\n",
    "h.add(35, 'Thirty Five')\n",
    "\n",
    "print(h)"
   ]
  },
  {
   "cell_type": "code",
   "execution_count": 35,
   "id": "12acef8e",
   "metadata": {},
   "outputs": [],
   "source": [
    "def delete(self, key):\n",
    "    key_hash = self._get_hash(key)\n",
    "    \n",
    "    if self.map[key_hash] is None:\n",
    "        raise KeyError(str(key))\n",
    "        \n",
    "    for i in range(0, len(self.map[key_hash])):\n",
    "        if self.map[key_hash][i][0] == key:\n",
    "            self.map[key_hash].pop(i)\n",
    "            return True\n",
    "    \n",
    "HashMap.delete = delete"
   ]
  },
  {
   "cell_type": "code",
   "execution_count": 37,
   "id": "62780606",
   "metadata": {},
   "outputs": [
    {
     "data": {
      "text/plain": [
       "True"
      ]
     },
     "execution_count": 37,
     "metadata": {},
     "output_type": "execute_result"
    }
   ],
   "source": [
    "h.delete(35)"
   ]
  },
  {
   "cell_type": "code",
   "execution_count": 39,
   "id": "8c9e128e",
   "metadata": {},
   "outputs": [
    {
     "name": "stdout",
     "output_type": "stream",
     "text": [
      "5: [[25, 'Twenty Five']]\n",
      "6: [[16, 'Sixteen Updated']]\n",
      "\n"
     ]
    }
   ],
   "source": [
    "print(h)"
   ]
  },
  {
   "cell_type": "code",
   "execution_count": 40,
   "id": "fa858fbe",
   "metadata": {},
   "outputs": [
    {
     "ename": "KeyError",
     "evalue": "'33'",
     "output_type": "error",
     "traceback": [
      "\u001b[1;31m---------------------------------------------------------------------------\u001b[0m",
      "\u001b[1;31mKeyError\u001b[0m                                  Traceback (most recent call last)",
      "Input \u001b[1;32mIn [40]\u001b[0m, in \u001b[0;36m<cell line: 1>\u001b[1;34m()\u001b[0m\n\u001b[1;32m----> 1\u001b[0m \u001b[43mh\u001b[49m\u001b[38;5;241;43m.\u001b[39;49m\u001b[43mdelete\u001b[49m\u001b[43m(\u001b[49m\u001b[38;5;241;43m33\u001b[39;49m\u001b[43m)\u001b[49m\n",
      "Input \u001b[1;32mIn [35]\u001b[0m, in \u001b[0;36mdelete\u001b[1;34m(self, key)\u001b[0m\n\u001b[0;32m      2\u001b[0m key_hash \u001b[38;5;241m=\u001b[39m \u001b[38;5;28mself\u001b[39m\u001b[38;5;241m.\u001b[39m_get_hash(key)\n\u001b[0;32m      4\u001b[0m \u001b[38;5;28;01mif\u001b[39;00m \u001b[38;5;28mself\u001b[39m\u001b[38;5;241m.\u001b[39mmap[key_hash] \u001b[38;5;129;01mis\u001b[39;00m \u001b[38;5;28;01mNone\u001b[39;00m:\n\u001b[1;32m----> 5\u001b[0m     \u001b[38;5;28;01mraise\u001b[39;00m \u001b[38;5;167;01mKeyError\u001b[39;00m(\u001b[38;5;28mstr\u001b[39m(key))\n\u001b[0;32m      7\u001b[0m \u001b[38;5;28;01mfor\u001b[39;00m i \u001b[38;5;129;01min\u001b[39;00m \u001b[38;5;28mrange\u001b[39m(\u001b[38;5;241m0\u001b[39m, \u001b[38;5;28mlen\u001b[39m(\u001b[38;5;28mself\u001b[39m\u001b[38;5;241m.\u001b[39mmap[key_hash])):\n\u001b[0;32m      8\u001b[0m     \u001b[38;5;28;01mif\u001b[39;00m \u001b[38;5;28mself\u001b[39m\u001b[38;5;241m.\u001b[39mmap[key_hash][i][\u001b[38;5;241m0\u001b[39m] \u001b[38;5;241m==\u001b[39m key:\n",
      "\u001b[1;31mKeyError\u001b[0m: '33'"
     ]
    }
   ],
   "source": [
    "h.delete(33)"
   ]
  }
 ],
 "metadata": {
  "kernelspec": {
   "display_name": "Python 3 (ipykernel)",
   "language": "python",
   "name": "python3"
  },
  "language_info": {
   "codemirror_mode": {
    "name": "ipython",
    "version": 3
   },
   "file_extension": ".py",
   "mimetype": "text/x-python",
   "name": "python",
   "nbconvert_exporter": "python",
   "pygments_lexer": "ipython3",
   "version": "3.10.4"
  }
 },
 "nbformat": 4,
 "nbformat_minor": 5
}
