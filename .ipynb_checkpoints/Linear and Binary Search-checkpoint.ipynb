{
 "cells": [
  {
   "cell_type": "code",
   "execution_count": 35,
   "id": "5f25b9e9",
   "metadata": {},
   "outputs": [],
   "source": [
    "def linear_search(l, n, x):\n",
    "    for i in range(n):\n",
    "        if l[i] == x:\n",
    "            return i"
   ]
  },
  {
   "cell_type": "code",
   "execution_count": 36,
   "id": "13984e94",
   "metadata": {},
   "outputs": [
    {
     "name": "stdout",
     "output_type": "stream",
     "text": [
      "Element not found.\n"
     ]
    }
   ],
   "source": [
    "l = [12, 45, 22, 77, 54]\n",
    "result = linear_search(l, len(l), 212)\n",
    "if result is not None:\n",
    "    print('Element found at index ', result)\n",
    "else:\n",
    "    print('Element not found.')"
   ]
  },
  {
   "cell_type": "code",
   "execution_count": 37,
   "id": "7adbb126",
   "metadata": {},
   "outputs": [],
   "source": [
    "def binary_search(l, x, low, high):\n",
    "    while low <= high:\n",
    "        mid = (low + high) // 2\n",
    "        \n",
    "        if l[mid] == x:\n",
    "            return mid\n",
    "\n",
    "        elif l[mid] < x:\n",
    "            low = mid + 1\n",
    "\n",
    "        elif l[mid] > x:\n",
    "            high = mid - 1\n",
    "        "
   ]
  },
  {
   "cell_type": "code",
   "execution_count": 39,
   "id": "7d2adbf7",
   "metadata": {},
   "outputs": [
    {
     "name": "stdout",
     "output_type": "stream",
     "text": [
      "Element found at index  0\n"
     ]
    }
   ],
   "source": [
    "l = [10, 20, 30, 40, 50]\n",
    "result = binary_search(l, 10, 0, len(l) - 1)\n",
    "if result is not None:\n",
    "    print('Element found at index ', result)\n",
    "else:\n",
    "    print('Element not found.')"
   ]
  },
  {
   "cell_type": "code",
   "execution_count": null,
   "id": "e237b97a",
   "metadata": {},
   "outputs": [],
   "source": []
  }
 ],
 "metadata": {
  "kernelspec": {
   "display_name": "Python 3 (ipykernel)",
   "language": "python",
   "name": "python3"
  },
  "language_info": {
   "codemirror_mode": {
    "name": "ipython",
    "version": 3
   },
   "file_extension": ".py",
   "mimetype": "text/x-python",
   "name": "python",
   "nbconvert_exporter": "python",
   "pygments_lexer": "ipython3",
   "version": "3.10.4"
  }
 },
 "nbformat": 4,
 "nbformat_minor": 5
}
