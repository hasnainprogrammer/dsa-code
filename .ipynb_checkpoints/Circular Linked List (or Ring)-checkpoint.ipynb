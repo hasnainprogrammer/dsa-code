{
 "cells": [
  {
   "cell_type": "code",
   "execution_count": 1,
   "id": "12059094",
   "metadata": {},
   "outputs": [],
   "source": [
    "class Node:\n",
    "    def __init__(self, val):\n",
    "        self.val = val\n",
    "        self.next = None\n",
    "        \n",
    "class Ring:\n",
    "    def __init__(self):\n",
    "        self.head = None"
   ]
  },
  {
   "cell_type": "code",
   "execution_count": 35,
   "id": "150a7529",
   "metadata": {},
   "outputs": [],
   "source": [
    "r = Ring()"
   ]
  },
  {
   "cell_type": "code",
   "execution_count": 29,
   "id": "59161a85",
   "metadata": {},
   "outputs": [],
   "source": [
    "def __str__(self):\n",
    "    ret_str = \"[\"\n",
    "    temp = self.head\n",
    "#   case 1 if no nodes\n",
    "    while temp is not None:\n",
    "        ret_str += str(temp.val) + ', '\n",
    "        temp = temp.next\n",
    "#   case 2 if one node, case 3 if at least two nodes\n",
    "        if temp == self.head:\n",
    "            break\n",
    "    ret_str += \"]\"\n",
    "    return ret_str\n",
    "\n",
    "Ring.__str__ = __str__"
   ]
  },
  {
   "cell_type": "code",
   "execution_count": 26,
   "id": "01472c04",
   "metadata": {},
   "outputs": [],
   "source": [
    "def get_last(self):\n",
    "#   if no nodes\n",
    "    if self.head is None:\n",
    "        return None\n",
    "#   if one node\n",
    "    if self.head.next == self.head:\n",
    "        return self.head\n",
    "#   if at least two nodes\n",
    "    temp = self.head\n",
    "    while temp is not None:\n",
    "        if temp.next == self.head:\n",
    "            break\n",
    "        temp = temp.next\n",
    "    return temp\n",
    "        \n",
    "Ring.get_last = get_last"
   ]
  },
  {
   "cell_type": "code",
   "execution_count": 80,
   "id": "2193f408",
   "metadata": {},
   "outputs": [],
   "source": [
    "def insert(self, index, value):\n",
    "    new_node = Node(value)\n",
    "    last = self.get_last()\n",
    "#   case 1 if insertion at index 0\n",
    "    if index == 0:\n",
    "        print('Exec Case 1')\n",
    "        new_node.next = self.head\n",
    "        self.head = new_node\n",
    "        if last is None:\n",
    "            self.head.next = new_node\n",
    "        else:\n",
    "            last.next = new_node\n",
    "        return \n",
    "\n",
    "    temp = self.head \n",
    "    if temp is None and index > 0:\n",
    "        raise Exception('Cannot insert, list is empty.')\n",
    "#   case 2 if insertion at any position other than 0 index\n",
    "    print('Exec Case 2')\n",
    "    counter = 0\n",
    "    while temp is not None and counter < index:\n",
    "        prev = temp\n",
    "        temp = temp.next\n",
    "        counter += 1\n",
    "    prev.next = new_node\n",
    "    new_node.next = temp    \n",
    "    \n",
    "Ring.insert = insert"
   ]
  },
  {
   "cell_type": "code",
   "execution_count": 94,
   "id": "cfd177bc",
   "metadata": {},
   "outputs": [
    {
     "name": "stdout",
     "output_type": "stream",
     "text": [
      "[900, 400, 700, 400, 400, ]\n",
      "[900, 400, 700, 400, 400, ]\n"
     ]
    }
   ],
   "source": [
    "print(r)\n",
    "r.insert(2, 700)\n",
    "print(r)"
   ]
  },
  {
   "cell_type": "code",
   "execution_count": 111,
   "id": "fb86c0ec",
   "metadata": {},
   "outputs": [
    {
     "name": "stdout",
     "output_type": "stream",
     "text": [
      "[]\n",
      "[]\n"
     ]
    }
   ],
   "source": [
    "def remove(self, value):\n",
    "    last = self.get_last()\n",
    "#   if no nodes\n",
    "    if self.head is None:\n",
    "        return \n",
    "    temp = self.head\n",
    "#   case 1 if removed value found in the first node \n",
    "    if value == temp.val:\n",
    "        print('Exec case 1')\n",
    "#       if one node\n",
    "        if self.head == last:\n",
    "            self.head = None\n",
    "            return \n",
    "#       if at least two nodes\n",
    "        self.head = temp.next\n",
    "        last.next = self.head\n",
    "        return\n",
    "\n",
    "#   case 2 if remove from any position other than starting position\n",
    "    print('Exec case 2')\n",
    "    prev = temp\n",
    "    temp = temp.next\n",
    "    while temp != self.head:\n",
    "        if value == temp.val:\n",
    "            break\n",
    "        prev = temp\n",
    "        temp = temp.next\n",
    "        \n",
    "        \n",
    "    if temp == self.head:\n",
    "        return\n",
    "    prev.next = temp.next\n",
    "    \n",
    "\n",
    "Ring.remove = remove\n",
    "\n",
    "print(r)\n",
    "r.remove(700)\n",
    "print(r)"
   ]
  },
  {
   "cell_type": "code",
   "execution_count": 54,
   "id": "e115d374",
   "metadata": {},
   "outputs": [],
   "source": [
    "# def push(self, value):\n",
    "#     new_node = Node(value)\n",
    "#     if self.head is None:\n",
    "#         self.head = new_node\n",
    "#         new_node.next = self.head\n",
    "#         return;\n",
    "    \n",
    "#     if self.head.next == self.head:\n",
    "#         self.head.next = new_node\n",
    "#         new_node.next = self.head\n",
    "#     temp = self.head\n",
    "#     while temp is not None:\n",
    "#         if temp.next == self.head:\n",
    "#             break\n",
    "#         temp = temp.next\n",
    "#     temp.next = new_node\n",
    "#     new_node.next = self.head\n",
    "    \n",
    "    \n",
    "# Ring.push = push\n",
    "\n",
    "# print(r)\n",
    "# r.push(800)\n",
    "# print(r)"
   ]
  }
 ],
 "metadata": {
  "kernelspec": {
   "display_name": "Python 3 (ipykernel)",
   "language": "python",
   "name": "python3"
  },
  "language_info": {
   "codemirror_mode": {
    "name": "ipython",
    "version": 3
   },
   "file_extension": ".py",
   "mimetype": "text/x-python",
   "name": "python",
   "nbconvert_exporter": "python",
   "pygments_lexer": "ipython3",
   "version": "3.10.4"
  }
 },
 "nbformat": 4,
 "nbformat_minor": 5
}
