{
 "cells": [
  {
   "cell_type": "code",
   "execution_count": 31,
   "id": "4f64ee7f",
   "metadata": {},
   "outputs": [],
   "source": [
    "class DiGraph:\n",
    "    def __init__(self):\n",
    "        self.g = {}\n",
    "    def add_node(self, node):\n",
    "        if node in self.g:\n",
    "            raise ValueError('Node already exists')\n",
    "            \n",
    "        self.g[node] = []\n",
    "        \n",
    "    def add_edge(self, src, dest):\n",
    "        if src not in self.g:\n",
    "            raise ValueError('Source node not in graph')\n",
    "        if dest not in self.g:\n",
    "            raise ValueError('Destination node not in graph')\n",
    "            \n",
    "        nexts = self.g[src]\n",
    "        if dest in nexts:\n",
    "            return\n",
    "        \n",
    "        nexts.append(dest)\n",
    "            \n",
    "g = DiGraph()\n",
    "g.add_node('a')\n",
    "g.add_node('b')\n",
    "\n",
    "# g.add_node('b') # ValueError\n",
    "\n",
    "g.add_node('c')\n",
    "g.add_node('d')\n",
    "g.add_node('e')\n",
    "\n",
    "g.add_edge('a', 'b')\n",
    "g.add_edge('a', 'c')\n",
    "g.add_edge('b', 'd')\n",
    "g.add_edge('d', 'e')\n",
    "g.add_edge('c', 'e')\n",
    "\n",
    "\n",
    "# g.add_edge('z', 'b') # ValueError\n",
    "\n",
    "# BETTER WAY OF ADDING A NODES\n",
    "# nodes = ['a', 'b', 'c', 'd']\n",
    "# for node in nodes:\n",
    "#     g.add_node(node)\n",
    "    \n",
    "# edges = [\n",
    "#     ('a', 'b'),\n",
    "#     ('a', 'c'), \n",
    "#     ('b', 'd'),\n",
    "#     ('c', 'd')\n",
    "# ]\n",
    "# for e in edges:\n",
    "#     g.add_edge(e[0], e[1])\n",
    "\n",
    "# GRAPH HAVING CYCLE\n",
    "# nodes = ['a', 'b', 'c']\n",
    "# for node in nodes:\n",
    "#     g.add_node(node)\n",
    "    \n",
    "# edges = [\n",
    "#     ('a', 'b'),\n",
    "#     ('b', 'a'), \n",
    "#     ('b', 'c'),\n",
    "# ]\n",
    "# for e in edges:\n",
    "#     g.add_edge(e[0], e[1])\n"
   ]
  },
  {
   "cell_type": "code",
   "execution_count": 32,
   "id": "c07fb6c7",
   "metadata": {},
   "outputs": [
    {
     "name": "stdout",
     "output_type": "stream",
     "text": [
      "{'a': ['b', 'c'], 'b': ['d'], 'c': ['e'], 'd': ['e'], 'e': []}\n"
     ]
    }
   ],
   "source": [
    "print(g.g)"
   ]
  },
  {
   "cell_type": "code",
   "execution_count": 33,
   "id": "af79c345",
   "metadata": {},
   "outputs": [
    {
     "name": "stdout",
     "output_type": "stream",
     "text": [
      "a\n",
      "b\n",
      "c\n",
      "d\n",
      "e\n"
     ]
    }
   ],
   "source": [
    "def bfs(self, start_node):\n",
    "    q = [start_node]\n",
    "    visited = []\n",
    "    \n",
    "    while q:\n",
    "        current = q.pop(0)   \n",
    "        if current in visited:\n",
    "            continue\n",
    "            \n",
    "        print(current)\n",
    "        \n",
    "        visited.append(current)\n",
    "        \n",
    "        next_nodes = self.g[current]\n",
    "        for n in next_nodes:\n",
    "            q.append(n)\n",
    "        \n",
    "DiGraph.bfs = bfs\n",
    "g.bfs('a')"
   ]
  },
  {
   "cell_type": "code",
   "execution_count": 34,
   "id": "cb7958aa",
   "metadata": {},
   "outputs": [
    {
     "name": "stdout",
     "output_type": "stream",
     "text": [
      "['a', 'b', 'd']\n"
     ]
    }
   ],
   "source": [
    "def path_finding(self, start, end, path=[]):\n",
    "    # Sanity checks\n",
    "    if start not in self.g or end not in self.g:\n",
    "        raise ValueError('Source or Destination not exits')\n",
    "    \n",
    "    # save the path we have traversed till now\n",
    "    path.append(start)\n",
    "    \n",
    "    # base case\n",
    "    if start == end:\n",
    "        return path\n",
    "    \n",
    "    # recursive case\n",
    "    nexts = self.g[start]\n",
    "    for node in nexts:\n",
    "        # need to avoid cycles\n",
    "        if node not in path:\n",
    "            # find path from next node to dest\n",
    "            new_path = self.path_finding(node, end, path)\n",
    "            if new_path:\n",
    "                return new_path\n",
    "    # if no path can be found from any of the next nodes to the end, there's no path! \n",
    "    return None\n",
    "    \n",
    "DiGraph.path_finding = path_finding\n",
    "print(g.path_finding('a', 'd'))"
   ]
  },
  {
   "cell_type": "code",
   "execution_count": 36,
   "id": "3f442b34",
   "metadata": {},
   "outputs": [],
   "source": [
    "# FIX IT\n",
    "\n",
    "def find_all_paths(self, start, end, path=[]):\n",
    "     # Sanity checks\n",
    "    if start not in self.g or end not in self.g:\n",
    "        raise ValueError('Source or Destination not exits')\n",
    "    \n",
    "    # save the path we have traversed till now\n",
    "    path.append(start)\n",
    "    \n",
    "    # base case\n",
    "    if start == end:\n",
    "        return [path] \n",
    "    \n",
    "    all_paths = []\n",
    "    \n",
    "    # recursive case\n",
    "    nexts = self.g[start]\n",
    "    for node in nexts:\n",
    "        # need to avoid cycles\n",
    "        if node not in path:\n",
    "            # finding all paths from next node to dest\n",
    "            all_newpaths = self.find_all_paths(node, end, path)\n",
    "            \n",
    "            for newpath in all_newpaths:\n",
    "                 all_paths.append(newpath)\n",
    "                                 \n",
    "    return all_paths\n",
    "\n",
    "DiGraph.find_all_paths = find_all_paths"
   ]
  },
  {
   "cell_type": "code",
   "execution_count": 19,
   "id": "543d15c0",
   "metadata": {},
   "outputs": [
    {
     "name": "stdout",
     "output_type": "stream",
     "text": [
      "{'a': ['b', 'c'], 'b': ['d'], 'c': ['e'], 'd': ['e'], 'e': []}\n",
      "PATH  ['a']\n",
      "PATH  ['a', 'b']\n",
      "PATH  ['a', 'b', 'd']\n",
      "--> PATH  ['a', 'b', 'd', 'e']\n",
      "--> PATH  ['a', 'b', 'd', 'e']\n",
      "--> PATH  ['a', 'b', 'd', 'e']\n",
      "PATH  ['a', 'b', 'd', 'e']\n",
      "--> PATH  ['a', 'b', 'd', 'e', 'c']\n"
     ]
    },
    {
     "data": {
      "text/plain": [
       "[['a', 'b', 'd', 'e', 'c']]"
      ]
     },
     "execution_count": 19,
     "metadata": {},
     "output_type": "execute_result"
    }
   ],
   "source": [
    "print(g.g)\n",
    "g.find_all_paths('a', 'e')"
   ]
  },
  {
   "cell_type": "code",
   "execution_count": 59,
   "id": "e62e9c88",
   "metadata": {},
   "outputs": [],
   "source": [
    "def shortest_path(self):\n",
    "    path"
   ]
  }
 ],
 "metadata": {
  "kernelspec": {
   "display_name": "Python 3 (ipykernel)",
   "language": "python",
   "name": "python3"
  },
  "language_info": {
   "codemirror_mode": {
    "name": "ipython",
    "version": 3
   },
   "file_extension": ".py",
   "mimetype": "text/x-python",
   "name": "python",
   "nbconvert_exporter": "python",
   "pygments_lexer": "ipython3",
   "version": "3.10.4"
  }
 },
 "nbformat": 4,
 "nbformat_minor": 5
}
