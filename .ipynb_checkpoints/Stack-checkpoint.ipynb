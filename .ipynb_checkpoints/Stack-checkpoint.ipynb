{
 "cells": [
  {
   "cell_type": "code",
   "execution_count": 1,
   "id": "dc3dc431",
   "metadata": {},
   "outputs": [],
   "source": [
    "stack = []"
   ]
  },
  {
   "cell_type": "code",
   "execution_count": 6,
   "id": "f2a7fb27",
   "metadata": {},
   "outputs": [
    {
     "name": "stdout",
     "output_type": "stream",
     "text": [
      "[1, 2, 3]\n"
     ]
    }
   ],
   "source": [
    "stack.append(1)\n",
    "stack.append(2)\n",
    "stack.append(3)\n",
    "\n",
    "print(stack)"
   ]
  },
  {
   "cell_type": "code",
   "execution_count": 7,
   "id": "77bbd5b8",
   "metadata": {},
   "outputs": [],
   "source": [
    "# print(stack.pop())\n",
    "# print(stack.pop())\n",
    "# print(stack.pop())\n",
    "stack.pop() # --> index error: pop from a empty list (also called stack underflow)\n",
    "# print(stack)"
   ]
  },
  {
   "cell_type": "code",
   "execution_count": 10,
   "id": "5b9cf87e",
   "metadata": {},
   "outputs": [
    {
     "name": "stdout",
     "output_type": "stream",
     "text": [
      "2\n"
     ]
    }
   ],
   "source": [
    "print(stack[1]) # we shouldn't be allowed to do this (list violates stack property)"
   ]
  },
  {
   "cell_type": "code",
   "execution_count": 17,
   "id": "4f51183d",
   "metadata": {},
   "outputs": [],
   "source": [
    "class Stack:\n",
    "    l = []\n",
    "    def push(self, value):\n",
    "        self.l.append(value)\n",
    "    def pop(self):\n",
    "        return self.l.pop()\n",
    "    def peek(self):\n",
    "        return self.l[-1]"
   ]
  },
  {
   "cell_type": "code",
   "execution_count": 27,
   "id": "a8667f50",
   "metadata": {},
   "outputs": [
    {
     "name": "stdout",
     "output_type": "stream",
     "text": [
      "8\n",
      "[4, 8, 8, 8, 8, 8, 8]\n"
     ]
    }
   ],
   "source": [
    "s = Stack()\n",
    "# s.push(4)\n",
    "s.push(8)\n",
    "# print(s.pop())\n",
    "# print(s.pop())\n",
    "print(s.peek())\n",
    "print(s.l)\n",
    "# print(s[1]) --> now we cannot do this (obey stack property)"
   ]
  },
  {
   "cell_type": "code",
   "execution_count": null,
   "id": "d116b924",
   "metadata": {},
   "outputs": [],
   "source": [
    "# Case Study: Bracket Matching\n",
    "\n",
    "def bracket_matching():\n",
    "    pass\n",
    "    "
   ]
  },
  {
   "cell_type": "code",
   "execution_count": null,
   "id": "c7681102",
   "metadata": {},
   "outputs": [],
   "source": [
    "# Case Study: Decimal to Binary Conversion\n",
    "def decimal_to_binary():\n",
    "    pass"
   ]
  }
 ],
 "metadata": {
  "kernelspec": {
   "display_name": "Python 3 (ipykernel)",
   "language": "python",
   "name": "python3"
  },
  "language_info": {
   "codemirror_mode": {
    "name": "ipython",
    "version": 3
   },
   "file_extension": ".py",
   "mimetype": "text/x-python",
   "name": "python",
   "nbconvert_exporter": "python",
   "pygments_lexer": "ipython3",
   "version": "3.10.4"
  }
 },
 "nbformat": 4,
 "nbformat_minor": 5
}
