{
 "cells": [
  {
   "cell_type": "markdown",
   "id": "e7109b81",
   "metadata": {},
   "source": [
    "# OS Walk"
   ]
  },
  {
   "cell_type": "code",
   "execution_count": 1,
   "id": "e37a6e6f",
   "metadata": {},
   "outputs": [],
   "source": [
    "import glob\n",
    "import os"
   ]
  },
  {
   "cell_type": "code",
   "execution_count": 101,
   "id": "d2e4a49d",
   "metadata": {},
   "outputs": [
    {
     "name": "stdout",
     "output_type": "stream",
     "text": [
      "images\\photo.jpg\n"
     ]
    }
   ],
   "source": [
    "# will create a path irrestive of which os the user have \n",
    "d = 'images'\n",
    "f = 'photo.jpg'\n",
    "path = os.path.join(d, f)\n",
    "print(path)"
   ]
  },
  {
   "cell_type": "code",
   "execution_count": 2,
   "id": "fffb459d",
   "metadata": {},
   "outputs": [
    {
     "data": {
      "text/plain": [
       "'C:\\\\Users\\\\Laptop Valley\\\\Desktop\\\\DSA-PRACTICE'"
      ]
     },
     "execution_count": 2,
     "metadata": {},
     "output_type": "execute_result"
    }
   ],
   "source": [
    "os.getcwd()"
   ]
  },
  {
   "cell_type": "code",
   "execution_count": 4,
   "id": "35c4c8af",
   "metadata": {},
   "outputs": [],
   "source": [
    "os.chdir('temp')"
   ]
  },
  {
   "cell_type": "code",
   "execution_count": 5,
   "id": "fe90c6e4",
   "metadata": {},
   "outputs": [
    {
     "data": {
      "text/plain": [
       "'C:\\\\Users\\\\Laptop Valley\\\\Desktop\\\\DSA-PRACTICE\\\\temp'"
      ]
     },
     "execution_count": 5,
     "metadata": {},
     "output_type": "execute_result"
    }
   ],
   "source": [
    "os.getcwd()"
   ]
  },
  {
   "cell_type": "code",
   "execution_count": 6,
   "id": "ad464d17",
   "metadata": {},
   "outputs": [],
   "source": [
    "os.chdir('..')"
   ]
  },
  {
   "cell_type": "code",
   "execution_count": 7,
   "id": "f008cf8c",
   "metadata": {},
   "outputs": [
    {
     "data": {
      "text/plain": [
       "['.ipynb_checkpoints',\n",
       " '1-Linked List.ipynb',\n",
       " '10-Sorting.ipynb',\n",
       " '11-Hashmaps.ipynb',\n",
       " '2-Doubly Connected Linked List.ipynb',\n",
       " '3-Circular Linked List (or Ring).ipynb',\n",
       " '4-Stack.ipynb',\n",
       " '5-Queue, Set, Collections and Counter.ipynb',\n",
       " '6-Recursion.ipynb',\n",
       " '7-Problem Solving with Lists.ipynb',\n",
       " '8-Trees, Traversal, BST.ipynb',\n",
       " '9-Heapify, BuildHeap, Heapsort.ipynb',\n",
       " 'Graph Traversal, Path Finding.ipynb',\n",
       " 'Graph.ipynb',\n",
       " 'Linear and Binary Search.ipynb',\n",
       " 'Python Libraries for Working with Files, Deck of Cards.ipynb',\n",
       " 'temp']"
      ]
     },
     "execution_count": 7,
     "metadata": {},
     "output_type": "execute_result"
    }
   ],
   "source": [
    "os.listdir()"
   ]
  },
  {
   "cell_type": "code",
   "execution_count": 8,
   "id": "f7904724",
   "metadata": {},
   "outputs": [],
   "source": [
    "os.chdir('temp')"
   ]
  },
  {
   "cell_type": "code",
   "execution_count": 23,
   "id": "a6dafe39",
   "metadata": {},
   "outputs": [
    {
     "data": {
      "text/plain": [
       "['temp-file0.txt', 'temp-file1.txt', 'temp-file2.txt', 'sub\\\\subfile.txt']"
      ]
     },
     "execution_count": 23,
     "metadata": {},
     "output_type": "execute_result"
    }
   ],
   "source": [
    "# glob.glob('*.txt')\n",
    "glob.glob('**/*.txt', recursive=True)"
   ]
  },
  {
   "cell_type": "code",
   "execution_count": 12,
   "id": "119df513",
   "metadata": {},
   "outputs": [
    {
     "data": {
      "text/plain": [
       "['index.html', 'sub', 'temp-file0.txt', 'temp-file1.txt', 'temp-file2.txt']"
      ]
     },
     "execution_count": 12,
     "metadata": {},
     "output_type": "execute_result"
    }
   ],
   "source": [
    "glob.glob('**') # simply means match everything"
   ]
  },
  {
   "cell_type": "code",
   "execution_count": 35,
   "id": "47bf1f31",
   "metadata": {},
   "outputs": [],
   "source": [
    "# Case Study 1: Renaming Files\n",
    "for i, f in enumerate(glob.glob('*.txt')):\n",
    "    old_name = f\n",
    "    new_name = 'temp-' + old_name\n",
    "    os.rename(old_name, new_name)"
   ]
  },
  {
   "cell_type": "code",
   "execution_count": 24,
   "id": "d343b23d",
   "metadata": {},
   "outputs": [
    {
     "data": {
      "text/plain": [
       "['index.html', 'sub', 'temp-file0.txt', 'temp-file1.txt', 'temp-file2.txt']"
      ]
     },
     "execution_count": 24,
     "metadata": {},
     "output_type": "execute_result"
    }
   ],
   "source": [
    "os.listdir()"
   ]
  },
  {
   "cell_type": "code",
   "execution_count": 54,
   "id": "1fac492a",
   "metadata": {},
   "outputs": [
    {
     "name": "stdout",
     "output_type": "stream",
     "text": [
      "[('.\\\\index.html', 0), ('.\\\\temp-file0.txt', 7046), ('.\\\\temp-file1.txt', 3517), ('.\\\\temp-file2.txt', 146375), ('.\\\\sub\\\\subfile.txt', 0)]\n"
     ]
    }
   ],
   "source": [
    "# Case Study 2: Finding Large Files\n",
    "file_sizes = []\n",
    "for dir_path, dirs, files in os.walk('.'):\n",
    "    for f in files:\n",
    "        file_full_path = os.path.join(dir_path, f)\n",
    "        file_size = os.path.getsize(file_full_path)\n",
    "        file_sizes.append((file_full_path, file_size))\n",
    "print(file_sizes)"
   ]
  },
  {
   "cell_type": "code",
   "execution_count": 67,
   "id": "5d35e4ca",
   "metadata": {},
   "outputs": [
    {
     "name": "stdout",
     "output_type": "stream",
     "text": [
      "[('.\\\\temp-file2.txt', 146375),\n",
      " ('.\\\\temp-file0.txt', 7046),\n",
      " ('.\\\\temp-file1.txt', 3517),\n",
      " ('.\\\\sub\\\\subfile.txt', 0),\n",
      " ('.\\\\index.html', 0)]\n"
     ]
    }
   ],
   "source": [
    "import pprint\n",
    "\n",
    "pprint.pprint(file_sizes) # pretty print"
   ]
  },
  {
   "cell_type": "code",
   "execution_count": 74,
   "id": "af6dafe8",
   "metadata": {},
   "outputs": [
    {
     "name": "stdout",
     "output_type": "stream",
     "text": [
      "Collecting humanize\n",
      "  Downloading humanize-4.9.0-py3-none-any.whl (126 kB)\n",
      "     ------------------------------------ 126.8/126.8 kB 191.4 kB/s eta 0:00:00\n",
      "Installing collected packages: humanize\n",
      "Successfully installed humanize-4.9.0\n"
     ]
    },
    {
     "name": "stderr",
     "output_type": "stream",
     "text": [
      "\n",
      "[notice] A new release of pip is available: 23.1.2 -> 24.0\n",
      "[notice] To update, run: python.exe -m pip install --upgrade pip\n"
     ]
    }
   ],
   "source": [
    "!pip install humanize"
   ]
  },
  {
   "cell_type": "code",
   "execution_count": 80,
   "id": "fd0a89dd",
   "metadata": {},
   "outputs": [
    {
     "data": {
      "text/plain": [
       "'146.4 kB'"
      ]
     },
     "execution_count": 80,
     "metadata": {},
     "output_type": "execute_result"
    }
   ],
   "source": [
    "# finding largest file\n",
    "import humanize\n",
    "\n",
    "sizes = [f[1] for f in file_sizes]\n",
    "# print(max(sizes))\n",
    "\n",
    "file_sizes.sort(key=lambda x: x[1], reverse=True)\n",
    "\n",
    "humanize.naturalsize(file_sizes[0][1])"
   ]
  },
  {
   "cell_type": "code",
   "execution_count": 97,
   "id": "93db12d9",
   "metadata": {},
   "outputs": [
    {
     "name": "stdout",
     "output_type": "stream",
     "text": [
      "146.4 kB\n"
     ]
    }
   ],
   "source": [
    "# file having size greater than 10kb\n",
    "filtered = filter(lambda x: x[1] > 1024 * 10, file_sizes)\n",
    "for f in filtered:\n",
    "    print(humanize.naturalsize(f[1]))"
   ]
  },
  {
   "cell_type": "markdown",
   "id": "ddc881a6",
   "metadata": {},
   "source": [
    "# Cards and Decks"
   ]
  },
  {
   "cell_type": "code",
   "execution_count": 7,
   "id": "dc7c2380",
   "metadata": {},
   "outputs": [],
   "source": [
    "class Card:\n",
    "    def __init__(self, suit, val):\n",
    "        self.suit = suit\n",
    "        self.val = val\n",
    "    def __str__(self):\n",
    "        return str(self.val) + \" of \" + self.suit\n",
    "class Deck:\n",
    "    def __init__(self):\n",
    "        self.cards = []\n",
    "        self.build()\n",
    "        \n",
    "    def build(self):\n",
    "        for s in ['Spades', 'Hearts', 'Diamonds', 'Clubs']:\n",
    "            for v in range(1, 14):\n",
    "                self.cards.append(Card(s, v))\n",
    "                \n",
    "    def __str__(self):\n",
    "        ret = \"\"\n",
    "        for c in self.cards:\n",
    "            ret += str(c) + \"\\n\"\n",
    "        return ret"
   ]
  },
  {
   "cell_type": "code",
   "execution_count": 8,
   "id": "0cc36407",
   "metadata": {},
   "outputs": [],
   "source": [
    "c1 = Card('Hearts', 5)"
   ]
  },
  {
   "cell_type": "code",
   "execution_count": 10,
   "id": "e4b402d2",
   "metadata": {},
   "outputs": [
    {
     "name": "stdout",
     "output_type": "stream",
     "text": [
      "5 of Hearts\n"
     ]
    }
   ],
   "source": [
    "print(c1)"
   ]
  },
  {
   "cell_type": "code",
   "execution_count": 11,
   "id": "f93ab5b7",
   "metadata": {},
   "outputs": [],
   "source": [
    "d = Deck()"
   ]
  },
  {
   "cell_type": "code",
   "execution_count": 12,
   "id": "547d0a5c",
   "metadata": {},
   "outputs": [
    {
     "name": "stdout",
     "output_type": "stream",
     "text": [
      "1 of Spades\n",
      "2 of Spades\n",
      "3 of Spades\n",
      "4 of Spades\n",
      "5 of Spades\n",
      "6 of Spades\n",
      "7 of Spades\n",
      "8 of Spades\n",
      "9 of Spades\n",
      "10 of Spades\n",
      "11 of Spades\n",
      "12 of Spades\n",
      "13 of Spades\n",
      "1 of Hearts\n",
      "2 of Hearts\n",
      "3 of Hearts\n",
      "4 of Hearts\n",
      "5 of Hearts\n",
      "6 of Hearts\n",
      "7 of Hearts\n",
      "8 of Hearts\n",
      "9 of Hearts\n",
      "10 of Hearts\n",
      "11 of Hearts\n",
      "12 of Hearts\n",
      "13 of Hearts\n",
      "1 of Diamonds\n",
      "2 of Diamonds\n",
      "3 of Diamonds\n",
      "4 of Diamonds\n",
      "5 of Diamonds\n",
      "6 of Diamonds\n",
      "7 of Diamonds\n",
      "8 of Diamonds\n",
      "9 of Diamonds\n",
      "10 of Diamonds\n",
      "11 of Diamonds\n",
      "12 of Diamonds\n",
      "13 of Diamonds\n",
      "1 of Clubs\n",
      "2 of Clubs\n",
      "3 of Clubs\n",
      "4 of Clubs\n",
      "5 of Clubs\n",
      "6 of Clubs\n",
      "7 of Clubs\n",
      "8 of Clubs\n",
      "9 of Clubs\n",
      "10 of Clubs\n",
      "11 of Clubs\n",
      "12 of Clubs\n",
      "13 of Clubs\n",
      "\n"
     ]
    }
   ],
   "source": [
    "print(d)"
   ]
  }
 ],
 "metadata": {
  "kernelspec": {
   "display_name": "Python 3 (ipykernel)",
   "language": "python",
   "name": "python3"
  },
  "language_info": {
   "codemirror_mode": {
    "name": "ipython",
    "version": 3
   },
   "file_extension": ".py",
   "mimetype": "text/x-python",
   "name": "python",
   "nbconvert_exporter": "python",
   "pygments_lexer": "ipython3",
   "version": "3.10.4"
  }
 },
 "nbformat": 4,
 "nbformat_minor": 5
}
