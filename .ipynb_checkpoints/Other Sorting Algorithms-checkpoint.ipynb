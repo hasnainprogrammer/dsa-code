{
 "cells": [
  {
   "cell_type": "markdown",
   "id": "d868222f",
   "metadata": {},
   "source": [
    "# Counting Sort"
   ]
  },
  {
   "cell_type": "code",
   "execution_count": 10,
   "id": "d0cbe575",
   "metadata": {},
   "outputs": [],
   "source": [
    "# self implemented\n",
    "\n",
    "# NOTE: Counting sort algorithm only works on non negative integers. we know that counting sort maps \n",
    "# array values to the indices of the counts/auxiliary array. therefore, negative numbers map to negative indices will\n",
    "# not work properly.\n",
    "\n",
    "def counting_sort(array):\n",
    "    n = len(array)\n",
    "    output = [0] * n \n",
    "    count = [0] * (max(array) + 1) \n",
    "    for i in array:\n",
    "        count[i] += 1\n",
    "    # print(count)\n",
    "    for j in range(1, len(count)):\n",
    "        count[j] = count[j - 1] + count[j]\n",
    "    # print(count)\n",
    "    for k in array:\n",
    "        output[count[k] - 1] = k\n",
    "        count[k] -= 1\n",
    "    return output"
   ]
  },
  {
   "cell_type": "code",
   "execution_count": 7,
   "id": "0a27c2c9",
   "metadata": {},
   "outputs": [
    {
     "name": "stdout",
     "output_type": "stream",
     "text": [
      "[0, 1, 2, 3, 3, 4, 8, 20]\n"
     ]
    }
   ],
   "source": [
    "print(counting_sort([4, 2, 20, 8, 0, 3, 3, 1]))"
   ]
  },
  {
   "cell_type": "code",
   "execution_count": null,
   "id": "b6be634a",
   "metadata": {},
   "outputs": [],
   "source": []
  }
 ],
 "metadata": {
  "kernelspec": {
   "display_name": "Python 3 (ipykernel)",
   "language": "python",
   "name": "python3"
  },
  "language_info": {
   "codemirror_mode": {
    "name": "ipython",
    "version": 3
   },
   "file_extension": ".py",
   "mimetype": "text/x-python",
   "name": "python",
   "nbconvert_exporter": "python",
   "pygments_lexer": "ipython3",
   "version": "3.10.4"
  }
 },
 "nbformat": 4,
 "nbformat_minor": 5
}
