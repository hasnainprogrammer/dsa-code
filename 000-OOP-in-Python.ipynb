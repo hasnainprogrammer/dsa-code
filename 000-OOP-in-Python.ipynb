{
 "cells": [
  {
   "cell_type": "markdown",
   "id": "ec96af67",
   "metadata": {},
   "source": [
    "# Class Syntax, Constructor, Object Creation and more"
   ]
  },
  {
   "cell_type": "code",
   "execution_count": 2,
   "id": "659cf290",
   "metadata": {},
   "outputs": [],
   "source": [
    "class Point:\n",
    "    def __init__(self, x=0, y=0): # (__init__, __str__) --> dunder function\n",
    "        self.x = x # field\n",
    "        self.y = y\n",
    "#     def __init__(self): # --> overwrite the existing constructor\n",
    "#         print('New Constructor')\n",
    "    def __str__(self): # --> string representation of object \n",
    "        return \"[\" + str(self.x) + \", \" + str(self.y) + \"]\""
   ]
  },
  {
   "cell_type": "code",
   "execution_count": 3,
   "id": "b2c7e4b0",
   "metadata": {},
   "outputs": [
    {
     "name": "stdout",
     "output_type": "stream",
     "text": [
      "0\n"
     ]
    }
   ],
   "source": [
    "p = Point() # p --> reference variable\n",
    "print(p.x)\n",
    "p = Point(5, 10) # the interpreter automatically pass the object to the class methods which is then recieved in self parameter"
   ]
  },
  {
   "cell_type": "code",
   "execution_count": 4,
   "id": "8f9cd784",
   "metadata": {},
   "outputs": [
    {
     "name": "stdout",
     "output_type": "stream",
     "text": [
      "[5, 10]\n"
     ]
    }
   ],
   "source": [
    "print(p)"
   ]
  },
  {
   "cell_type": "markdown",
   "id": "e4ced3ee",
   "metadata": {},
   "source": [
    "# Composition"
   ]
  },
  {
   "cell_type": "code",
   "execution_count": 5,
   "id": "175666af",
   "metadata": {},
   "outputs": [],
   "source": [
    "class Shape:\n",
    "    def __init__(self, points):\n",
    "        self.points = points\n",
    "    def __str__(self):\n",
    "        ret = \"\"\n",
    "        for i in self.points:\n",
    "            ret += str(i) + ' - '\n",
    "        return ret"
   ]
  },
  {
   "cell_type": "code",
   "execution_count": 6,
   "id": "cede06bb",
   "metadata": {},
   "outputs": [],
   "source": [
    "p1 = Point(5, 10)\n",
    "p2 = Point(15, 20)\n",
    "p3 = Point(25, 30)\n",
    "p = [p1, p2, p3]\n",
    "sh = Shape(p)"
   ]
  },
  {
   "cell_type": "code",
   "execution_count": 7,
   "id": "feaf2efd",
   "metadata": {},
   "outputs": [
    {
     "name": "stdout",
     "output_type": "stream",
     "text": [
      "[5, 10] - [15, 20] - [25, 30] - \n"
     ]
    }
   ],
   "source": [
    "print(sh)"
   ]
  },
  {
   "cell_type": "markdown",
   "id": "d9abfe1f",
   "metadata": {},
   "source": [
    "#### we can add methods to class even after it has been defined!"
   ]
  },
  {
   "cell_type": "code",
   "execution_count": 8,
   "id": "723b8c25",
   "metadata": {},
   "outputs": [],
   "source": [
    "def print_points(self):\n",
    "    for i in self.points:\n",
    "        print(i)\n",
    "Shape.print_points = print_points"
   ]
  },
  {
   "cell_type": "code",
   "execution_count": 9,
   "id": "a1432716",
   "metadata": {},
   "outputs": [
    {
     "name": "stdout",
     "output_type": "stream",
     "text": [
      "[5, 10]\n",
      "[15, 20]\n",
      "[25, 30]\n"
     ]
    }
   ],
   "source": [
    "sh.print_points()"
   ]
  },
  {
   "cell_type": "markdown",
   "id": "b4aa2912",
   "metadata": {},
   "source": [
    "# Inheritance "
   ]
  },
  {
   "cell_type": "code",
   "execution_count": 16,
   "id": "afa2a488",
   "metadata": {},
   "outputs": [
    {
     "name": "stdout",
     "output_type": "stream",
     "text": [
      "This is a Rectangle class\n"
     ]
    }
   ],
   "source": [
    "class Triangle(Shape):\n",
    "    pass\n",
    "\n",
    "t = Triangle(p)\n",
    "# t.print_points()\n",
    "\n",
    "# adding method the class\n",
    "def show_message(self):\n",
    "    print('This is a Rectangle class')\n",
    "Triangle.show_message = show_message\n",
    "t.show_message()"
   ]
  },
  {
   "cell_type": "code",
   "execution_count": 30,
   "id": "3ca9fa98",
   "metadata": {},
   "outputs": [
    {
     "name": "stdout",
     "output_type": "stream",
     "text": [
      "Child\n",
      "Parent function\n",
      "OK\n"
     ]
    }
   ],
   "source": [
    "# super() --> use to call the parent class methods from the child class\n",
    "\n",
    "class Parent:\n",
    "    def __init__(self, x=0):\n",
    "        print('Parent')\n",
    "    def func(self):\n",
    "        print('Parent function')\n",
    "        \n",
    "class Child(Parent):\n",
    "    def __init__(self):\n",
    "        print('Child')\n",
    "    def func(self):\n",
    "        super().func()\n",
    "        print(\"OK\")\n",
    "    \n",
    "c = Child()\n",
    "c.func()"
   ]
  },
  {
   "cell_type": "markdown",
   "id": "388acbcb",
   "metadata": {},
   "source": [
    "# Polymorphism"
   ]
  },
  {
   "cell_type": "markdown",
   "id": "faf9c70c",
   "metadata": {},
   "source": [
    "#### you get that for free in python . just call the method. if it's overridden, the child class method will be executed."
   ]
  },
  {
   "cell_type": "markdown",
   "id": "c7590d1b",
   "metadata": {},
   "source": [
    "# Access Modifiers"
   ]
  },
  {
   "cell_type": "markdown",
   "id": "35d03a6a",
   "metadata": {},
   "source": [
    "#### There are none. By convention, method starting with _ are considered private and shouldn't be called from the outside. if you still want to do it, the response is, \"good luck!\"."
   ]
  },
  {
   "cell_type": "code",
   "execution_count": null,
   "id": "0626e255",
   "metadata": {},
   "outputs": [],
   "source": []
  }
 ],
 "metadata": {
  "kernelspec": {
   "display_name": "Python 3 (ipykernel)",
   "language": "python",
   "name": "python3"
  },
  "language_info": {
   "codemirror_mode": {
    "name": "ipython",
    "version": 3
   },
   "file_extension": ".py",
   "mimetype": "text/x-python",
   "name": "python",
   "nbconvert_exporter": "python",
   "pygments_lexer": "ipython3",
   "version": "3.10.4"
  }
 },
 "nbformat": 4,
 "nbformat_minor": 5
}
