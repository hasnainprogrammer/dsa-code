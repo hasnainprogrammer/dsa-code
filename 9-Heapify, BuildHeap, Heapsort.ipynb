{
 "cells": [
  {
   "cell_type": "code",
   "execution_count": 1,
   "id": "e20e1ff0",
   "metadata": {},
   "outputs": [],
   "source": [
    "def heapify(lst, n, root):\n",
    "    largest = root\n",
    "    l = 2 * root + 1\n",
    "    r = 2 * root + 2 \n",
    "    if l < n and lst[l] > lst[largest]:\n",
    "        largest = l\n",
    "    if r < n and lst[r] > lst[largest]:\n",
    "        largest = r\n",
    "        \n",
    "    if largest != root:\n",
    "        lst[root], lst[largest] = lst[largest], lst[root]\n",
    "        \n",
    "        heapify(lst, n, largest)\n"
   ]
  },
  {
   "cell_type": "code",
   "execution_count": 2,
   "id": "d827e05d",
   "metadata": {},
   "outputs": [
    {
     "name": "stdout",
     "output_type": "stream",
     "text": [
      "[10, 18, 12, 7, 25, 3]\n",
      "[10, 25, 12, 7, 18, 3]\n"
     ]
    }
   ],
   "source": [
    "lst = [10, 18, 12, 7, 25, 3]\n",
    "print(lst)\n",
    "heapify(lst, len(lst), 1)\n",
    "print(lst)"
   ]
  },
  {
   "cell_type": "code",
   "execution_count": 12,
   "id": "9b806d85",
   "metadata": {},
   "outputs": [],
   "source": [
    "def build_heap(lst):\n",
    "    n = len(lst)\n",
    "    \n",
    "    for i in reversed(range(n // 2)):\n",
    "        heapify(lst, n, i)\n"
   ]
  },
  {
   "cell_type": "code",
   "execution_count": 13,
   "id": "9b930c64",
   "metadata": {},
   "outputs": [
    {
     "name": "stdout",
     "output_type": "stream",
     "text": [
      "[25, 35, 7, 30, 32, 19]\n",
      "[35, 32, 19, 30, 25, 7]\n"
     ]
    }
   ],
   "source": [
    "lst = [25, 35, 7, 30, 32, 19]\n",
    "print(lst)\n",
    "build_heap(lst)\n",
    "print(lst)"
   ]
  },
  {
   "cell_type": "code",
   "execution_count": 16,
   "id": "2a7ae556",
   "metadata": {},
   "outputs": [],
   "source": [
    "def heap_sort(lst):\n",
    "    n = len(lst) \n",
    "    \n",
    "    build_heap(lst)\n",
    "    for i in reversed(range(n)):\n",
    "        print('NODE ', i)\n",
    "        lst[i], lst[0] = lst[0], lst[i]\n",
    "        heapify(lst, i, 0)\n",
    "    return lst\n",
    "        "
   ]
  },
  {
   "cell_type": "code",
   "execution_count": 17,
   "id": "96bd3a1c",
   "metadata": {},
   "outputs": [
    {
     "name": "stdout",
     "output_type": "stream",
     "text": [
      "NODE  3\n",
      "NODE  2\n",
      "NODE  1\n",
      "NODE  0\n",
      "[21, 35, 39, 49]\n"
     ]
    }
   ],
   "source": [
    "lst = [35, 21, 49, 39]\n",
    "print(heap_sort(lst))"
   ]
  },
  {
   "cell_type": "code",
   "execution_count": null,
   "id": "0a185e23",
   "metadata": {},
   "outputs": [],
   "source": []
  }
 ],
 "metadata": {
  "kernelspec": {
   "display_name": "Python 3 (ipykernel)",
   "language": "python",
   "name": "python3"
  },
  "language_info": {
   "codemirror_mode": {
    "name": "ipython",
    "version": 3
   },
   "file_extension": ".py",
   "mimetype": "text/x-python",
   "name": "python",
   "nbconvert_exporter": "python",
   "pygments_lexer": "ipython3",
   "version": "3.10.4"
  }
 },
 "nbformat": 4,
 "nbformat_minor": 5
}
