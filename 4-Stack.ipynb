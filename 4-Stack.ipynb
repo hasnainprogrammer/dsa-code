{
 "cells": [
  {
   "cell_type": "code",
   "execution_count": 1,
   "id": "dc3dc431",
   "metadata": {},
   "outputs": [],
   "source": [
    "stack = []"
   ]
  },
  {
   "cell_type": "code",
   "execution_count": 2,
   "id": "f2a7fb27",
   "metadata": {},
   "outputs": [
    {
     "name": "stdout",
     "output_type": "stream",
     "text": [
      "[1, 2, 3]\n"
     ]
    }
   ],
   "source": [
    "stack.append(1)\n",
    "stack.append(2)\n",
    "stack.append(3)\n",
    "\n",
    "print(stack)"
   ]
  },
  {
   "cell_type": "code",
   "execution_count": 4,
   "id": "77bbd5b8",
   "metadata": {},
   "outputs": [
    {
     "name": "stdout",
     "output_type": "stream",
     "text": [
      "[1, 2]\n"
     ]
    }
   ],
   "source": [
    "# print(stack.pop())\n",
    "# print(stack.pop())\n",
    "# print(stack.pop())\n",
    "stack.pop() # --> index error: pop from a empty list (also called stack underflow)\n",
    "# print(stack)"
   ]
  },
  {
   "cell_type": "code",
   "execution_count": 6,
   "id": "5b9cf87e",
   "metadata": {},
   "outputs": [
    {
     "name": "stdout",
     "output_type": "stream",
     "text": [
      "2\n"
     ]
    }
   ],
   "source": [
    "print(stack[1]) # we shouldn't be allowed to do this (list violates stack property)"
   ]
  },
  {
   "cell_type": "code",
   "execution_count": 4,
   "id": "4f51183d",
   "metadata": {},
   "outputs": [],
   "source": [
    "class Stack:\n",
    "    def __init__(self):\n",
    "        self.l = []\n",
    "    def push(self, value):\n",
    "        self.l.append(value)\n",
    "    def pop(self):\n",
    "        return self.l.pop()\n",
    "    def peek(self):\n",
    "        return self.l[-1]"
   ]
  },
  {
   "cell_type": "code",
   "execution_count": 9,
   "id": "a8667f50",
   "metadata": {},
   "outputs": [
    {
     "name": "stdout",
     "output_type": "stream",
     "text": [
      "8\n",
      "[4, 8]\n"
     ]
    }
   ],
   "source": [
    "s = Stack()\n",
    "s.push(4)\n",
    "s.push(8)\n",
    "# print(s.pop())\n",
    "# print(s.pop())\n",
    "print(s.peek())\n",
    "print(s.l)\n",
    " # print(s[1]) --> now we cannot do this (obey stack property)"
   ]
  },
  {
   "cell_type": "code",
   "execution_count": 67,
   "id": "d116b924",
   "metadata": {},
   "outputs": [],
   "source": [
    "# Case Study: Bracket Matching\n",
    "\n",
    "def bracket_matching(string):\n",
    "    opening = \"({[\"\n",
    "    closing = \")}]\"\n",
    "    stack = []\n",
    "    mapping = dict(zip(opening, closing))\n",
    "    for c in string:\n",
    "        if c not in mapping.keys() and c not in mapping.values():\n",
    "#             print('Not a Bracket')\n",
    "            continue\n",
    "        \n",
    "        if c in mapping.keys():\n",
    "#             print('Pushing the corresponding closing bracket')\n",
    "            stack.append(mapping[c])\n",
    "            continue\n",
    "            \n",
    "#       short circuiting\n",
    "        elif len(stack) == 0 or c != stack.pop():\n",
    "#             print('len(Stack)=0 or Bracket not matched.')\n",
    "            return False\n",
    "        \n",
    "#     if len(stack) != 0:\n",
    "#         print('Stack is not empty and strings end.')\n",
    "#         return False\n",
    "#     else:\n",
    "#         return True\n",
    "#       ^\n",
    "#       !\n",
    "#       ---------------------------------\n",
    "#     logical equivalence same as above !\n",
    "    return len(stack) == 0"
   ]
  },
  {
   "cell_type": "code",
   "execution_count": 68,
   "id": "2e30ee62",
   "metadata": {},
   "outputs": [
    {
     "name": "stdout",
     "output_type": "stream",
     "text": [
      "Pushing the corresponding closing bracket\n",
      "Pushing the corresponding closing bracket\n",
      "Not a Bracket\n",
      "Not a Bracket\n",
      "Not a Bracket\n"
     ]
    },
    {
     "data": {
      "text/plain": [
       "True"
      ]
     },
     "execution_count": 68,
     "metadata": {},
     "output_type": "execute_result"
    }
   ],
   "source": [
    "string = \"{(dff)}\"\n",
    "bracket_matching(string)"
   ]
  },
  {
   "cell_type": "code",
   "execution_count": 24,
   "id": "c7681102",
   "metadata": {},
   "outputs": [],
   "source": [
    "# Case Study: Decimal to Binary Conversion\n",
    "def decimal_to_binary(num):\n",
    "    if num == 0:\n",
    "        return 0\n",
    "    stack = []\n",
    "    while num != 0:\n",
    "        remainder = num % 2\n",
    "        num = num // 2\n",
    "        stack.append(remainder)\n",
    "    ret_str = ''\n",
    "    while stack:\n",
    "        ret_str += str(stack.pop())\n",
    "    return ret_str"
   ]
  },
  {
   "cell_type": "code",
   "execution_count": 25,
   "id": "6f8e811e",
   "metadata": {},
   "outputs": [
    {
     "data": {
      "text/plain": [
       "'1000'"
      ]
     },
     "execution_count": 25,
     "metadata": {},
     "output_type": "execute_result"
    }
   ],
   "source": [
    "decimal_to_binary(8)"
   ]
  }
 ],
 "metadata": {
  "kernelspec": {
   "display_name": "Python 3 (ipykernel)",
   "language": "python",
   "name": "python3"
  },
  "language_info": {
   "codemirror_mode": {
    "name": "ipython",
    "version": 3
   },
   "file_extension": ".py",
   "mimetype": "text/x-python",
   "name": "python",
   "nbconvert_exporter": "python",
   "pygments_lexer": "ipython3",
   "version": "3.10.4"
  }
 },
 "nbformat": 4,
 "nbformat_minor": 5
}
