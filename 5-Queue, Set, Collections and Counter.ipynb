{
 "cells": [
  {
   "cell_type": "markdown",
   "id": "bcee479e",
   "metadata": {},
   "source": [
    "# Queue "
   ]
  },
  {
   "cell_type": "code",
   "execution_count": 1,
   "id": "8aa43e26",
   "metadata": {},
   "outputs": [],
   "source": [
    "class Queue:\n",
    "    def __init__(self):\n",
    "        self.size = 5\n",
    "        self.q = list(range(self.size))\n",
    "        self.i = 0\n",
    "        self.o = 0\n",
    "        \n",
    "        self.is_empty = True\n",
    "        self.is_full = False"
   ]
  },
  {
   "cell_type": "code",
   "execution_count": 2,
   "id": "4d8911fb",
   "metadata": {},
   "outputs": [],
   "source": [
    "def _inc(self, idx):\n",
    "    if idx + 1 == self.size:\n",
    "        return 0\n",
    "    else:\n",
    "        return idx + 1\n",
    "\n",
    "Queue._inc = _inc"
   ]
  },
  {
   "cell_type": "code",
   "execution_count": 3,
   "id": "8b39237a",
   "metadata": {},
   "outputs": [],
   "source": [
    "def enqueue(self, value):\n",
    "    if self.is_full:\n",
    "        raise Exception('Cannot Enqueue! Queue is already full')\n",
    "    \n",
    "    self.q[self.i] = value\n",
    "    self.i = self._inc(self.i)\n",
    "    \n",
    "    if self.i == self.o:\n",
    "        self.is_full = True\n",
    "    \n",
    "    self.is_empty = False\n",
    "    \n",
    "Queue.enqueue = enqueue"
   ]
  },
  {
   "cell_type": "code",
   "execution_count": 4,
   "id": "1157ea71",
   "metadata": {},
   "outputs": [],
   "source": [
    "def __str__(self):\n",
    "    return f'Queue: {str(self.q)}   i: {self.i} ,  o: {self.o}'\n",
    "\n",
    "Queue.__str__ = __str__"
   ]
  },
  {
   "cell_type": "code",
   "execution_count": 15,
   "id": "44b4426c",
   "metadata": {},
   "outputs": [],
   "source": [
    "def dequeue(self):\n",
    "    if self.is_empty:\n",
    "        raise Exception('Cannot Dequeue! Queue is empty')\n",
    "    value = self.q[self.o]\n",
    "    self.o = self._inc(self.o)\n",
    "    \n",
    "    if self.o == self.i:\n",
    "        self.is_empty = True\n",
    "    \n",
    "    self.is_full = False\n",
    "    return value\n",
    "\n",
    "Queue.dequeue = dequeue"
   ]
  },
  {
   "cell_type": "code",
   "execution_count": 16,
   "id": "97979fa0",
   "metadata": {},
   "outputs": [
    {
     "name": "stdout",
     "output_type": "stream",
     "text": [
      "Queue: [0, 1, 2, 3, 4]   i: 0 ,  o: 0\n",
      "Queue: [1000, 2000, 3000, 4000, 5000]   i: 0 ,  o: 0\n",
      "1000\n",
      "2000\n",
      "3000\n",
      "4000\n",
      "5000\n",
      "Queue: [1000, 2000, 3000, 4000, 5000]   i: 0 ,  o: 0\n"
     ]
    }
   ],
   "source": [
    "q = Queue()\n",
    "print(q)\n",
    "q.enqueue(1000)\n",
    "q.enqueue(2000)\n",
    "q.enqueue(3000)\n",
    "q.enqueue(4000)\n",
    "q.enqueue(5000)\n",
    "# q.enqueue(6000) --> Exception\n",
    "\n",
    "print(q)\n",
    "print(q.dequeue())\n",
    "print(q.dequeue())\n",
    "print(q.dequeue())\n",
    "print(q.dequeue())\n",
    "print(q.dequeue())\n",
    "print(q)\n",
    "\n",
    "# print(q.dequeue()) --> Exception"
   ]
  },
  {
   "cell_type": "markdown",
   "id": "9c417e4a",
   "metadata": {},
   "source": [
    "# Set Data Structure"
   ]
  },
  {
   "cell_type": "code",
   "execution_count": 1,
   "id": "e0e04b01",
   "metadata": {},
   "outputs": [
    {
     "name": "stdout",
     "output_type": "stream",
     "text": [
      "{40, 10, 50, 20, 30}\n",
      "<class 'set'>\n"
     ]
    }
   ],
   "source": [
    "s = set([10, 20, 30, 10, 20, 40, 50])\n",
    "print(s)\n",
    "print(type(s))"
   ]
  },
  {
   "cell_type": "code",
   "execution_count": 11,
   "id": "706b5aa0",
   "metadata": {},
   "outputs": [
    {
     "name": "stdout",
     "output_type": "stream",
     "text": [
      "{50, 20, 40, 10, 30}\n",
      "<class 'set'>\n"
     ]
    }
   ],
   "source": [
    "s = {10, 20, 30, 10, 20, 40, 50}\n",
    "print(s)\n",
    "print(type(s))"
   ]
  },
  {
   "cell_type": "code",
   "execution_count": 18,
   "id": "f10dfc80",
   "metadata": {},
   "outputs": [],
   "source": [
    "s1 = {10, 20, 30}\n",
    "s2 = {20, 40, 60}\n",
    "u = {10, 20, 30, 40, 60}"
   ]
  },
  {
   "cell_type": "code",
   "execution_count": 26,
   "id": "290e0f23",
   "metadata": {},
   "outputs": [
    {
     "name": "stdout",
     "output_type": "stream",
     "text": [
      "{40, 9, 10, 555, 333, 22222, 77, 60, 20, 30, 88, 444, 222}\n",
      "{20}\n",
      "{9, 10, 555, 333, 22222, 77, 88, 444, 222, 30}\n",
      "False\n",
      "{9, 10, 555, 333, 22222, 77, 20, 30, 88, 444, 222}\n",
      "{9, 10, 555, 333, 22222, 77, 20, 30, 88, 444, 222}\n",
      "{9, 10, 555, 333, 22222, 77, 20, 30, 88, 222}\n"
     ]
    }
   ],
   "source": [
    "# print(s1 | s2) # union\n",
    "print(s1.union(s2)) # AUB\n",
    "print(s1.intersection(s2)) # A∩B\n",
    "print(s1.difference(s2)) # A∩B'\n",
    "print(s1.isdisjoint(s2)) # A∩B --> T | F\n",
    "s1.add(22222) # ADD ELEMENT\n",
    "print(s1)\n",
    "s1.update([222, 333, 444, 555]) # ADD ELEMENTSS\n",
    "print(s1)\n",
    "s1.remove(444) # REMOVE ELEMENT\n",
    "print(s1)"
   ]
  },
  {
   "cell_type": "code",
   "execution_count": 28,
   "id": "86fccba9",
   "metadata": {},
   "outputs": [
    {
     "name": "stdout",
     "output_type": "stream",
     "text": [
      "True\n",
      "True\n",
      "False\n",
      "True\n"
     ]
    }
   ],
   "source": [
    "# Example:- a and b are two sets then:\n",
    "# Subset:- all the elements of a is present in b and both are equal (equal number of elements). i.e: a = {1, 2, 3} b = {1, 2, 3} then a <= b\n",
    "\n",
    "# Proper Subset:-  all the elements of a is present in b and b is larger than a (b has a large number of elements than a). i.e: a = {1, 2, 3} b = {1, 2, 3, 4, 5} then a < b\n",
    "\n",
    "a = {1, 2, 3}\n",
    "b = {1, 2, 3}\n",
    "c = {1, 2, 3, 4, 5}\n",
    "\n",
    "print(a.issubset(b)) # subset\n",
    "print(a <= b) # subset\n",
    "print(a < b) # proper subset\n",
    "print(a < c) # proper subset"
   ]
  },
  {
   "cell_type": "markdown",
   "id": "17c534c3",
   "metadata": {},
   "source": [
    "## All and Any"
   ]
  },
  {
   "cell_type": "markdown",
   "id": "3e9b6221",
   "metadata": {},
   "source": [
    "you can use `all` and `any` if you have a lot of conditions -- all or some of which need to be satisfied."
   ]
  },
  {
   "cell_type": "code",
   "execution_count": 232,
   "id": "c2870e7c",
   "metadata": {},
   "outputs": [
    {
     "name": "stdout",
     "output_type": "stream",
     "text": [
      "All constraints satisfied\n"
     ]
    }
   ],
   "source": [
    "a = 5\n",
    "b = 4\n",
    "\n",
    "if a > 2 and a < 10 and b > 0 and b < 10:\n",
    "    print('All constraints satisfied')"
   ]
  },
  {
   "cell_type": "code",
   "execution_count": 233,
   "id": "b0030907",
   "metadata": {},
   "outputs": [
    {
     "name": "stdout",
     "output_type": "stream",
     "text": [
      "All constraints satisfied\n"
     ]
    }
   ],
   "source": [
    "a = 5\n",
    "b = 4\n",
    "constraints = {a > 2, a < 10, b > 0, b < 10}\n",
    "# all returns TRUE if all of the conditions evaluates to TRUE\n",
    "if all(constraints):\n",
    "    print('All constraints satisfied')    "
   ]
  },
  {
   "cell_type": "code",
   "execution_count": 30,
   "id": "ee33584d",
   "metadata": {},
   "outputs": [
    {
     "name": "stdout",
     "output_type": "stream",
     "text": [
      "At least one constraint evaluates to TRUE\n"
     ]
    }
   ],
   "source": [
    "a = 5\n",
    "b = 4\n",
    "constraints = {a > 2, a < 5, b > 4, b < 6}\n",
    "# any returns TRUE if any of the condition evaluates to TRUE (means if one of them evaluates to TRUE)\n",
    "if any(constraints):\n",
    "    print('At least one constraint have evaluates to TRUE')    "
   ]
  },
  {
   "cell_type": "code",
   "execution_count": 33,
   "id": "bb2f88c3",
   "metadata": {},
   "outputs": [
    {
     "name": "stdout",
     "output_type": "stream",
     "text": [
      "Counter({'blue': 3, 'green': 2, 'red': 1, 'yellow': 1, 'pink': 1, 'purple': 1})\n",
      "[('blue', 3), ('green', 2), ('red', 1), ('yellow', 1), ('pink', 1), ('purple', 1)]\n",
      "purple\n"
     ]
    }
   ],
   "source": [
    "from collections import Counter\n",
    "\n",
    "cnt = Counter()\n",
    "favourate_colors = ['blue', 'red', 'yellow', 'pink', 'blue', 'green', 'purple', 'green', 'blue']\n",
    "for color in favourate_colors:\n",
    "    cnt[color] += 1\n",
    "\n",
    "print(cnt)\n",
    "print(cnt.most_common())\n",
    "print(cnt.most_common()[-1][0])"
   ]
  },
  {
   "cell_type": "code",
   "execution_count": 252,
   "id": "a91e1f96",
   "metadata": {},
   "outputs": [
    {
     "name": "stdout",
     "output_type": "stream",
     "text": [
      "('the', 16)\n"
     ]
    }
   ],
   "source": [
    "from collections import Counter\n",
    "\n",
    "cnt = Counter()\n",
    "paragraph = '''\n",
    "A well-organized paragraph supports or develops a single controlling idea, which is expressed in a sentence called the topic\n",
    "sentence. A topic sentence has several important functions: it substantiates or supports an essay’s thesis statement; it \n",
    "unifies the content of a paragraph and directs the order of the sentences; and it advises the reader of the subject to be\n",
    "discussed and how the paragraph will discuss it. Readers generally look to the first few sentences in a paragraph to determine\n",
    "the subject and perspective of the paragraph. That’s why it’s often best to put the topic sentence at the very beginning of the\n",
    "paragraph. In some cases, however, it’s more effective to place another sentence before the topic sentence—for example, a \n",
    "sentence linking the current paragraph to the previous one, or one providing background information.\n",
    "'''\n",
    "\n",
    "for word in paragraph.split():\n",
    "    cnt[word] += 1 \n",
    "\n",
    "print(cnt.most_common()[0])"
   ]
  },
  {
   "cell_type": "code",
   "execution_count": null,
   "id": "7102dbc6",
   "metadata": {},
   "outputs": [],
   "source": []
  }
 ],
 "metadata": {
  "kernelspec": {
   "display_name": "Python 3 (ipykernel)",
   "language": "python",
   "name": "python3"
  },
  "language_info": {
   "codemirror_mode": {
    "name": "ipython",
    "version": 3
   },
   "file_extension": ".py",
   "mimetype": "text/x-python",
   "name": "python",
   "nbconvert_exporter": "python",
   "pygments_lexer": "ipython3",
   "version": "3.10.4"
  }
 },
 "nbformat": 4,
 "nbformat_minor": 5
}
