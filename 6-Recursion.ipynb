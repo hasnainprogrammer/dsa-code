{
 "cells": [
  {
   "cell_type": "markdown",
   "id": "4294f3ea",
   "metadata": {},
   "source": [
    "# Factorial"
   ]
  },
  {
   "cell_type": "markdown",
   "id": "c03cfeac",
   "metadata": {},
   "source": [
    "#### fact(n) =  n * fact(n- 1)\n",
    "#### fact(0) = 1, fact(1) = 1"
   ]
  },
  {
   "cell_type": "code",
   "execution_count": 10,
   "id": "2c577e03",
   "metadata": {},
   "outputs": [],
   "source": [
    "def factorial(n):\n",
    "    # Base Case\n",
    "    if n <= 1:\n",
    "        return 1\n",
    "    \n",
    "#    Induction Case\n",
    "    return n * factorial(n - 1)"
   ]
  },
  {
   "cell_type": "code",
   "execution_count": 9,
   "id": "6f1f96ac",
   "metadata": {},
   "outputs": [
    {
     "name": "stdout",
     "output_type": "stream",
     "text": [
      "120\n"
     ]
    }
   ],
   "source": [
    "print(factorial(5))"
   ]
  },
  {
   "cell_type": "markdown",
   "id": "50f168eb",
   "metadata": {},
   "source": [
    "# Fibanocci"
   ]
  },
  {
   "cell_type": "markdown",
   "id": "d4888858",
   "metadata": {},
   "source": [
    "#### fib(n) = fib(n - 1) + fib(n - 2)\n",
    "#### fib(0) = 0, fib(1) = 1"
   ]
  },
  {
   "cell_type": "code",
   "execution_count": null,
   "id": "32b84fb3",
   "metadata": {},
   "outputs": [],
   "source": [
    "# 0    1     2        3         4          5\n",
    "# 0    1   0 + 1    1 + 1     2 + 1       3 + 2"
   ]
  },
  {
   "cell_type": "code",
   "execution_count": 22,
   "id": "3c01a02d",
   "metadata": {},
   "outputs": [],
   "source": [
    "def fib(n):\n",
    "    # Base Case\n",
    "    if n == 0:\n",
    "        return 0\n",
    "    if n == 1:\n",
    "        return 1\n",
    "    \n",
    "    # Induction Case\n",
    "    return fib(n - 1) + fib(n - 2)"
   ]
  },
  {
   "cell_type": "code",
   "execution_count": 25,
   "id": "00b141d1",
   "metadata": {
    "scrolled": true
   },
   "outputs": [
    {
     "data": {
      "text/plain": [
       "2"
      ]
     },
     "execution_count": 25,
     "metadata": {},
     "output_type": "execute_result"
    }
   ],
   "source": [
    "fib(3)"
   ]
  },
  {
   "cell_type": "code",
   "execution_count": null,
   "id": "0b535afc",
   "metadata": {},
   "outputs": [],
   "source": [
    "# 0     1\n",
    "# a     b\n",
    "\n",
    "# 0    1    2   ...\n",
    "#      a    b  (a = b,   b = a + b) ..."
   ]
  },
  {
   "cell_type": "code",
   "execution_count": 29,
   "id": "2286b899",
   "metadata": {},
   "outputs": [],
   "source": [
    "def fib_iterative(n):\n",
    "    a, b = 0, 1\n",
    "    for i in range(n):\n",
    "        a, b = b, a + b\n",
    "    return a"
   ]
  },
  {
   "cell_type": "code",
   "execution_count": 31,
   "id": "5a64b6a0",
   "metadata": {},
   "outputs": [
    {
     "data": {
      "text/plain": [
       "2"
      ]
     },
     "execution_count": 31,
     "metadata": {},
     "output_type": "execute_result"
    }
   ],
   "source": [
    "fib_iterative(3)"
   ]
  },
  {
   "cell_type": "code",
   "execution_count": 47,
   "id": "de025aaf",
   "metadata": {},
   "outputs": [],
   "source": [
    "# fast, also have recursion (but if dosen't give us code readibility then it's not GOOD). recursion is not the purpose code readiblity is \n",
    "def fib(n, a = 0, b = 1):\n",
    "    if n == 0:\n",
    "        return a\n",
    "    \n",
    "    return fib(n - 1, b, a + b)"
   ]
  },
  {
   "cell_type": "code",
   "execution_count": 37,
   "id": "6a4c5939",
   "metadata": {},
   "outputs": [
    {
     "data": {
      "text/plain": [
       "2"
      ]
     },
     "execution_count": 37,
     "metadata": {},
     "output_type": "execute_result"
    }
   ],
   "source": [
    "fib(3, 0, 1)"
   ]
  },
  {
   "cell_type": "markdown",
   "id": "6fd12794",
   "metadata": {},
   "source": [
    "# Towers of Hanoi"
   ]
  },
  {
   "cell_type": "code",
   "execution_count": 53,
   "id": "9830dbb8",
   "metadata": {},
   "outputs": [],
   "source": [
    "def tower_of_hanoi(levels=3):\n",
    "    move_tower(levels, 'A', 'C', 'B')\n",
    "    \n",
    "def move_tower(l, fr, to, aux):\n",
    "    if l == 1:\n",
    "        print_move(l, fr, to)\n",
    "        return\n",
    "        \n",
    "    move_tower(l - 1, fr, aux, to)\n",
    "    print_move(l, fr, to)\n",
    "    move_tower(l - 1, aux, to, fr)\n",
    "    \n",
    "        \n",
    "def print_move(l, fr, to):\n",
    "    print(f'Move: {l} from {fr} to {to}')"
   ]
  },
  {
   "cell_type": "code",
   "execution_count": 54,
   "id": "d7e4f10f",
   "metadata": {},
   "outputs": [
    {
     "name": "stdout",
     "output_type": "stream",
     "text": [
      "Move: 1 from A to C\n",
      "Move: 2 from A to B\n",
      "Move: 1 from C to B\n",
      "Move: 3 from A to C\n",
      "Move: 1 from B to A\n",
      "Move: 2 from B to C\n",
      "Move: 1 from A to C\n"
     ]
    }
   ],
   "source": [
    "tower_of_hanoi(3)"
   ]
  },
  {
   "cell_type": "markdown",
   "id": "8ab8018a",
   "metadata": {},
   "source": [
    "# Sum over a list"
   ]
  },
  {
   "cell_type": "code",
   "execution_count": 38,
   "id": "0e6997aa",
   "metadata": {},
   "outputs": [],
   "source": [
    "def sum_list(l):\n",
    "    sum = 0\n",
    "    for i in l:\n",
    "        sum += i\n",
    "    return sum"
   ]
  },
  {
   "cell_type": "code",
   "execution_count": 41,
   "id": "8d02a08e",
   "metadata": {},
   "outputs": [
    {
     "data": {
      "text/plain": [
       "150"
      ]
     },
     "execution_count": 41,
     "metadata": {},
     "output_type": "execute_result"
    }
   ],
   "source": [
    "l = [10, 20, 30, 40, 50]\n",
    "sum_list(l)"
   ]
  },
  {
   "cell_type": "code",
   "execution_count": 43,
   "id": "506e8005",
   "metadata": {},
   "outputs": [],
   "source": [
    "def sum_list_recursive(l):\n",
    "    if len(l) == 0:\n",
    "        return 0\n",
    "    return l[0] + sum_list_recursive(l[1:])"
   ]
  },
  {
   "cell_type": "code",
   "execution_count": 44,
   "id": "bf284ccb",
   "metadata": {},
   "outputs": [
    {
     "data": {
      "text/plain": [
       "150"
      ]
     },
     "execution_count": 44,
     "metadata": {},
     "output_type": "execute_result"
    }
   ],
   "source": [
    "sum_list_recursive(l)"
   ]
  },
  {
   "cell_type": "code",
   "execution_count": null,
   "id": "61536002",
   "metadata": {},
   "outputs": [],
   "source": []
  }
 ],
 "metadata": {
  "kernelspec": {
   "display_name": "Python 3 (ipykernel)",
   "language": "python",
   "name": "python3"
  },
  "language_info": {
   "codemirror_mode": {
    "name": "ipython",
    "version": 3
   },
   "file_extension": ".py",
   "mimetype": "text/x-python",
   "name": "python",
   "nbconvert_exporter": "python",
   "pygments_lexer": "ipython3",
   "version": "3.10.4"
  }
 },
 "nbformat": 4,
 "nbformat_minor": 5
}
