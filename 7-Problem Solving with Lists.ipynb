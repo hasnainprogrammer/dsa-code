{
 "cells": [
  {
   "cell_type": "code",
   "execution_count": 1,
   "id": "1ab35661",
   "metadata": {},
   "outputs": [],
   "source": [
    "class Node:\n",
    "    def __init__(self, val):\n",
    "        self.val = val\n",
    "        self.next = None\n",
    "\n",
    "class LinkedList:\n",
    "    def __init__(self):\n",
    "        self.head = None\n",
    "    def __str__(self):\n",
    "        ret_str = '['\n",
    "        temp = self.head\n",
    "        while temp is not None:\n",
    "            ret_str += str(temp.val) + ','\n",
    "            temp = temp.next\n",
    "        ret_str += ']'\n",
    "        return ret_str\n",
    "    def push(self, value):\n",
    "        new_node = Node(value)\n",
    "        if self.head is None:\n",
    "            self.head = new_node\n",
    "            return \n",
    "        last = self.head\n",
    "        while last.next is not None:\n",
    "            last = last.next\n",
    "        last.next = new_node"
   ]
  },
  {
   "cell_type": "code",
   "execution_count": 2,
   "id": "38559467",
   "metadata": {},
   "outputs": [
    {
     "name": "stdout",
     "output_type": "stream",
     "text": [
      "[]\n"
     ]
    }
   ],
   "source": [
    "l = LinkedList()\n",
    "print(l)"
   ]
  },
  {
   "cell_type": "code",
   "execution_count": 5,
   "id": "7c25bbde",
   "metadata": {},
   "outputs": [
    {
     "name": "stdout",
     "output_type": "stream",
     "text": [
      "[10,20,30,]\n"
     ]
    }
   ],
   "source": [
    "l.push(30)\n",
    "print(l)"
   ]
  },
  {
   "cell_type": "code",
   "execution_count": 10,
   "id": "44874b16",
   "metadata": {},
   "outputs": [
    {
     "name": "stdout",
     "output_type": "stream",
     "text": [
      "[80,20,70,90,10,]\n",
      "10\n"
     ]
    }
   ],
   "source": [
    "def minimum(self):\n",
    "    if self.head is None:\n",
    "        return None\n",
    "    minimum = self.head.val\n",
    "    temp = self.head.next\n",
    "    while temp is not None:\n",
    "        if temp.val < minimum:\n",
    "            minimum = temp.val\n",
    "        temp = temp.next\n",
    "    return minimum\n",
    "\n",
    "LinkedList.minimum = minimum\n",
    "print(l)\n",
    "print(l.minimum())"
   ]
  },
  {
   "cell_type": "code",
   "execution_count": 15,
   "id": "f0d5fa9d",
   "metadata": {},
   "outputs": [
    {
     "name": "stdout",
     "output_type": "stream",
     "text": [
      "[80,20,70,90,10,]\n",
      "10 4\n"
     ]
    }
   ],
   "source": [
    "def minimum_index(self):\n",
    "    if self.head is None:\n",
    "        return None\n",
    "    minimum = self.head.val\n",
    "    min_index = 0\n",
    "    counter = 1\n",
    "    temp = self.head.next\n",
    "    while temp is not None:\n",
    "        if temp.val < minimum:\n",
    "            minimum = temp.val\n",
    "            min_index = counter\n",
    "        temp = temp.next\n",
    "        counter += 1 \n",
    "    return (minimum, min_index)\n",
    "\n",
    "LinkedList.minimum_index = minimum_index\n",
    "minimum, minimum_index = l.minimum_index()\n",
    "print(l)\n",
    "print(minimum, minimum_index)"
   ]
  },
  {
   "cell_type": "code",
   "execution_count": 21,
   "id": "bace1ad5",
   "metadata": {},
   "outputs": [],
   "source": [
    "def remove(self, value):\n",
    "    if self.head is None:\n",
    "        raise Exception('List is empty!')\n",
    "#  if the value exists in the first place\n",
    "    if value == self.head.val:\n",
    "        print('exec case 1')\n",
    "        val = self.head.val\n",
    "        self.head = self.head.next\n",
    "        return val\n",
    "#  if to remove from any position\n",
    "    print('exec case 2')\n",
    "    temp = self.head\n",
    "    while temp.next is not None:\n",
    "        if value == temp.val:\n",
    "            break\n",
    "        prev = temp\n",
    "        temp = temp.next\n",
    "        \n",
    "    if value != temp.val:\n",
    "        raise Exception('Value not found!')\n",
    "        \n",
    "    val = temp.val\n",
    "    prev.next = temp.next\n",
    "    return val\n",
    "\n",
    "    \n",
    "LinkedList.remove = remove\n",
    "# print(l.remove(1000))\n",
    "# print(l)\n",
    "\n",
    "\n",
    "def remove_at(self, index):\n",
    "    if self.head is None:\n",
    "        raise Exception('Cannot Remove! lis is empty.')\n",
    "    if index == 0:\n",
    "        self.head = self.head.next\n",
    "        return\n",
    "    counter = 0\n",
    "    temp = self.head\n",
    "    while temp is not None and counter < index:\n",
    "        prev = temp\n",
    "        temp = temp.next\n",
    "        counter +=1\n",
    "    if prev.next is not None:\n",
    "        prev.next = temp.next\n",
    "    \n",
    "LinkedList.remove_at = remove_at"
   ]
  },
  {
   "cell_type": "code",
   "execution_count": 26,
   "id": "b8ab5cb8",
   "metadata": {},
   "outputs": [
    {
     "name": "stdout",
     "output_type": "stream",
     "text": [
      "3\n"
     ]
    }
   ],
   "source": [
    "def len(self):\n",
    "    counter = 0\n",
    "    temp = self.head\n",
    "    while temp is not None:\n",
    "        temp = temp.next\n",
    "        counter += 1\n",
    "    return counter\n",
    "\n",
    "LinkedList.len = len\n",
    "\n",
    "print(l.len())"
   ]
  },
  {
   "cell_type": "code",
   "execution_count": 23,
   "id": "faaf728d",
   "metadata": {},
   "outputs": [
    {
     "name": "stdout",
     "output_type": "stream",
     "text": [
      "[80,20,70,90,]\n",
      "[80,70,90,]\n"
     ]
    }
   ],
   "source": [
    "def remove_minimum(self):\n",
    "#     Removing with remove()\n",
    "#     self.remove(self.minimum())\n",
    "\n",
    "#     Removing with remove_at()\n",
    "      _ , idx = self.minimum_index()\n",
    "      self.remove_at(idx)\n",
    "LinkedList.remove_minimum = remove_minimum\n",
    "\n",
    "print(l)\n",
    "# l.remove_minimum()\n",
    "l.remove_minimum()\n",
    "print(l)"
   ]
  },
  {
   "cell_type": "code",
   "execution_count": 11,
   "id": "5075372c",
   "metadata": {},
   "outputs": [
    {
     "name": "stdout",
     "output_type": "stream",
     "text": [
      "[80,20,70,90,10,]\n",
      "90\n"
     ]
    }
   ],
   "source": [
    "def maximum(self):\n",
    "    if self.head is None:\n",
    "        return None\n",
    "    maximum = self.head.val\n",
    "    temp = self.head.next\n",
    "    while temp is not None:\n",
    "        if temp.val > maximum:\n",
    "            maximum = temp.val\n",
    "        temp = temp.next\n",
    "    return maximum\n",
    "\n",
    "LinkedList.maximum = maximum\n",
    "print(l)\n",
    "print(l.maximum())"
   ]
  },
  {
   "cell_type": "code",
   "execution_count": 10,
   "id": "0b858d2a",
   "metadata": {},
   "outputs": [
    {
     "name": "stdout",
     "output_type": "stream",
     "text": [
      "(77, 50, 45)\n"
     ]
    }
   ],
   "source": [
    "def find_three_highest():\n",
    "    l = [10, 50, 23, 45, 77, 34]\n",
    "    h1 = l[0]\n",
    "    h2 = l[0]\n",
    "    h3 = l[0]\n",
    "    for i in l[1:]:\n",
    "        if i > h1:\n",
    "            h3 = h2\n",
    "            h2 = h1\n",
    "            h1 = i\n",
    "        elif i > h2:\n",
    "            h3 = h2\n",
    "            h2 = i\n",
    "        elif i > h3:\n",
    "            h3 = i\n",
    "    return (h1, h2, h3)\n",
    "\n",
    "print(find_three_highest())"
   ]
  },
  {
   "cell_type": "code",
   "execution_count": 11,
   "id": "24e8305d",
   "metadata": {},
   "outputs": [
    {
     "name": "stdout",
     "output_type": "stream",
     "text": [
      "[10,]\n",
      "[10,]\n"
     ]
    }
   ],
   "source": [
    "# one way to reverse a linked list\n",
    "def reverse_list(self):\n",
    "    prev = None\n",
    "    current = self.head\n",
    "    while current is not None:\n",
    "        next = current.next\n",
    "        current.next = prev\n",
    "        prev = current \n",
    "        current = next\n",
    "    self.head = prev\n",
    "\n",
    "LinkedList.reverse_list = reverse_list\n",
    "\n",
    "print(l)\n",
    "l.reverse_list()\n",
    "print(l)"
   ]
  },
  {
   "cell_type": "code",
   "execution_count": 53,
   "id": "025d3542",
   "metadata": {},
   "outputs": [],
   "source": [
    "def get_last(self):\n",
    "#   if no nodes\n",
    "    if self.head is None:\n",
    "        return None\n",
    "#   if one node\n",
    "    if self.head.next is None:\n",
    "        return self.head\n",
    "#   if at least two nodes\n",
    "    temp = self.head\n",
    "    while temp.next is not None:\n",
    "        temp = temp.next\n",
    "    return temp\n",
    "        \n",
    "LinkedList.get_last = get_last\n"
   ]
  },
  {
   "cell_type": "code",
   "execution_count": 49,
   "id": "3c0fc6d7",
   "metadata": {},
   "outputs": [
    {
     "name": "stdout",
     "output_type": "stream",
     "text": [
      "[10,20,30,]\n",
      "[30,20,10,]\n"
     ]
    }
   ],
   "source": [
    "def rev_list(self):\n",
    "    if self.head is None: return \n",
    "    if self.head.next is None: return\n",
    "    new_head = self.get_last()\n",
    "    processing = new_head\n",
    "    for _ in range(self.len() - 1):\n",
    "        temp = self.head\n",
    "        while temp.next != processing:\n",
    "            temp = temp.next\n",
    "\n",
    "        processing.next = temp\n",
    "        processing = processing.next\n",
    "        \n",
    "    self.head.next = None        \n",
    "    self.head = new_head\n",
    "    \n",
    "LinkedList.rev_list = rev_list\n",
    "\n",
    "print(l)\n",
    "l.rev_list()\n",
    "print(l)"
   ]
  },
  {
   "cell_type": "code",
   "execution_count": 82,
   "id": "c8cc1e9b",
   "metadata": {},
   "outputs": [],
   "source": [
    "# Reversing Doubly Linked List\n",
    "class Node:\n",
    "    def __init__(self, val):\n",
    "        self.val = val\n",
    "        self.next = None\n",
    "        self.prev = None\n",
    "        \n",
    "class Doubly:\n",
    "    def __init__(self):\n",
    "        self.head = None"
   ]
  },
  {
   "cell_type": "code",
   "execution_count": 88,
   "id": "e701feeb",
   "metadata": {},
   "outputs": [],
   "source": [
    "l = Doubly()"
   ]
  },
  {
   "cell_type": "code",
   "execution_count": 89,
   "id": "3a28198f",
   "metadata": {},
   "outputs": [],
   "source": [
    "def __str__(self):\n",
    "    ret = '['\n",
    "    temp = self.head\n",
    "    while temp is not None:\n",
    "        ret += str(temp.val) + ', '\n",
    "        temp = temp.next\n",
    "    ret += ']'\n",
    "    return ret\n",
    "\n",
    "Doubly.__str__ = __str__"
   ]
  },
  {
   "cell_type": "code",
   "execution_count": 90,
   "id": "a2c14ec0",
   "metadata": {},
   "outputs": [
    {
     "name": "stdout",
     "output_type": "stream",
     "text": [
      "[]\n",
      "Exec case 1\n",
      "[10, ]\n"
     ]
    }
   ],
   "source": [
    "def push(self, value):\n",
    "    new_node = Node(value)\n",
    "#   if linked list is empty\n",
    "    if self.head is None:\n",
    "        print('Exec case 1')\n",
    "        self.head = new_node\n",
    "        return \n",
    "#   if at least one node\n",
    "    print('Exec case 2')\n",
    "    last = self.head\n",
    "    while last.next is not None:\n",
    "        last = last.next\n",
    "    last.next = new_node\n",
    "    new_node.prev = last\n",
    "    \n",
    "Doubly.push = push \n",
    "print(l)\n",
    "l.push(10)\n",
    "# l.push(20)\n",
    "# l.push(30)\n",
    "# l.push(40)\n",
    "\n",
    "print(l)"
   ]
  },
  {
   "cell_type": "code",
   "execution_count": 91,
   "id": "ecaefe16",
   "metadata": {},
   "outputs": [
    {
     "name": "stdout",
     "output_type": "stream",
     "text": [
      "[10, ]\n",
      "[10, ]\n"
     ]
    }
   ],
   "source": [
    "Doubly.get_last = get_last\n",
    "\n",
    "def rev_doubly(self):\n",
    "    new_head = self.get_last()\n",
    "    temp = self.head\n",
    "    while temp is not None:\n",
    "        next = temp.next\n",
    "        temp.next = temp.prev\n",
    "        temp.prev = next\n",
    "        \n",
    "        temp = next\n",
    "    self.head = new_head\n",
    "    \n",
    "Doubly.rev_doubly = rev_doubly\n",
    "\n",
    "print(l)\n",
    "l.rev_doubly()\n",
    "print(l)"
   ]
  },
  {
   "cell_type": "code",
   "execution_count": 43,
   "id": "2eb00b6d",
   "metadata": {},
   "outputs": [
    {
     "name": "stdout",
     "output_type": "stream",
     "text": [
      "[(17, 3), (21, 2), (15, 1), (19, 1)]\n"
     ]
    }
   ],
   "source": [
    "# temp.val\n",
    "\n",
    "l.push({'age': 17})\n",
    "def get_counts(self):\n",
    "    from collections import Counter\n",
    "    cnt = Counter()\n",
    "    \n",
    "    temp = self.head\n",
    "    while temp is not None:\n",
    "        to_count = temp.val['age']\n",
    "        cnt[to_count] += 1\n",
    "        temp = temp.next\n",
    "    return cnt.most_common()\n",
    "\n",
    "LinkedList.get_counts = get_counts\n",
    "print(l.get_counts())\n",
    "# print(l)"
   ]
  },
  {
   "cell_type": "code",
   "execution_count": 14,
   "id": "9b9eba3a",
   "metadata": {},
   "outputs": [
    {
     "name": "stdout",
     "output_type": "stream",
     "text": [
      "{10: 2, 20: 4, 30: 1}\n"
     ]
    }
   ],
   "source": [
    "lst = [10, 20, 30, 10, 20, 20, 20]\n",
    "cnt = {}\n",
    "for i in lst:\n",
    "    if i in cnt:\n",
    "        cnt[i] += 1\n",
    "    else:\n",
    "        cnt[i] = 1\n",
    "print(cnt)"
   ]
  },
  {
   "cell_type": "code",
   "execution_count": 81,
   "id": "37ae5c27",
   "metadata": {},
   "outputs": [
    {
     "name": "stdout",
     "output_type": "stream",
     "text": [
      "[50,100,]\n",
      "[50,100,]\n"
     ]
    }
   ],
   "source": [
    "def append_list(self, lst):\n",
    "    if self.head is None:\n",
    "        self.head = lst.head\n",
    "        return\n",
    "    last = self.get_last()\n",
    "    last.next = lst.head\n",
    "\n",
    "l = LinkedList()\n",
    "l2 = LinkedList()\n",
    "# l.push(1000)\n",
    "# l.push(2000)\n",
    "\n",
    "l2.push(50)\n",
    "l2.push(100)\n",
    "# l2.push(150)\n",
    "\n",
    "# print(l)\n",
    "# print(l2)\n",
    "\n",
    "LinkedList.append_list = append_list\n",
    "l.append_list(l2)\n",
    "print(l2)\n",
    "print(l)"
   ]
  },
  {
   "cell_type": "code",
   "execution_count": 8,
   "id": "51aab2c2",
   "metadata": {},
   "outputs": [
    {
     "name": "stdout",
     "output_type": "stream",
     "text": [
      "3.1622776601683795\n",
      "4.47213595499958\n",
      "5.477225575051661\n"
     ]
    }
   ],
   "source": [
    "def perform_operation(self, fn):\n",
    "    temp = self.head\n",
    "    while temp is not None:\n",
    "        print(fn(temp.val))\n",
    "        temp = temp.next\n",
    "LinkedList.perform_operation = perform_operation\n",
    "\n",
    "# print(l)\n",
    "from math import sqrt\n",
    "l.perform_operation(sqrt)"
   ]
  }
 ],
 "metadata": {
  "kernelspec": {
   "display_name": "Python 3 (ipykernel)",
   "language": "python",
   "name": "python3"
  },
  "language_info": {
   "codemirror_mode": {
    "name": "ipython",
    "version": 3
   },
   "file_extension": ".py",
   "mimetype": "text/x-python",
   "name": "python",
   "nbconvert_exporter": "python",
   "pygments_lexer": "ipython3",
   "version": "3.10.4"
  }
 },
 "nbformat": 4,
 "nbformat_minor": 5
}
