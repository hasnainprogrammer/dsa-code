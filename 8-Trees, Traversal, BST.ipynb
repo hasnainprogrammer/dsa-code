{
 "cells": [
  {
   "cell_type": "code",
   "execution_count": 1,
   "id": "ed41e1fa",
   "metadata": {},
   "outputs": [],
   "source": [
    "class TreeNode:\n",
    "    def __init__(self, val):\n",
    "        self.val = val\n",
    "        self.left = None\n",
    "        self.right = None\n",
    "    def __str__(self):\n",
    "        return f'.:{self.val}\\n  Left: {self.left}\\n      Right: {self.right}\\n'"
   ]
  },
  {
   "cell_type": "code",
   "execution_count": 2,
   "id": "12e0dc8f",
   "metadata": {},
   "outputs": [
    {
     "name": "stdout",
     "output_type": "stream",
     "text": [
      ".:70\n",
      "  Left: .:60\n",
      "  Left: .:40\n",
      "  Left: None\n",
      "      Right: None\n",
      "\n",
      "      Right: .:30\n",
      "  Left: None\n",
      "      Right: None\n",
      "\n",
      "\n",
      "      Right: .:50\n",
      "  Left: .:20\n",
      "  Left: None\n",
      "      Right: None\n",
      "\n",
      "      Right: .:10\n",
      "  Left: None\n",
      "      Right: None\n",
      "\n",
      "\n",
      "\n"
     ]
    }
   ],
   "source": [
    "root = TreeNode(70)\n",
    "n1 = TreeNode(60)\n",
    "n2 = TreeNode(50)\n",
    "root.left = n1\n",
    "root.right = n2\n",
    "n1_left = TreeNode(40)\n",
    "n1_right = TreeNode(30)\n",
    "n1.left = n1_left \n",
    "n1.right = n1_right \n",
    "\n",
    "n2_left = TreeNode(20)\n",
    "n2_right = TreeNode(10)\n",
    "n2.left = n2_left \n",
    "n2.right = n2_right \n",
    "\n",
    "print(root)"
   ]
  },
  {
   "cell_type": "code",
   "execution_count": 4,
   "id": "727c993c",
   "metadata": {},
   "outputs": [],
   "source": [
    "def dfs(self):\n",
    "    print(self.val)\n",
    "    \n",
    "    if self.left:\n",
    "        self.left.dfs()\n",
    "        \n",
    "    if self.right:\n",
    "        self.right.dfs()\n",
    "        \n",
    "TreeNode.dfs = dfs"
   ]
  },
  {
   "cell_type": "code",
   "execution_count": 5,
   "id": "1ebfe9e4",
   "metadata": {},
   "outputs": [
    {
     "name": "stdout",
     "output_type": "stream",
     "text": [
      "70\n",
      "60\n",
      "40\n",
      "30\n",
      "50\n",
      "20\n",
      "10\n"
     ]
    }
   ],
   "source": [
    "root.dfs()"
   ]
  },
  {
   "cell_type": "code",
   "execution_count": 3,
   "id": "da9c6b05",
   "metadata": {},
   "outputs": [],
   "source": [
    "def dfs_inorder(self):\n",
    "    if self.left:\n",
    "        self.left.dfs_inorder()\n",
    "        \n",
    "    print(self.val)\n",
    "    \n",
    "    if self.right:\n",
    "        self.right.dfs_inorder()\n",
    "\n",
    "TreeNode.dfs_inorder = dfs_inorder"
   ]
  },
  {
   "cell_type": "code",
   "execution_count": 4,
   "id": "28219744",
   "metadata": {},
   "outputs": [
    {
     "name": "stdout",
     "output_type": "stream",
     "text": [
      "40\n",
      "60\n",
      "30\n",
      "70\n",
      "20\n",
      "50\n",
      "10\n"
     ]
    }
   ],
   "source": [
    "root.dfs_inorder()"
   ]
  },
  {
   "cell_type": "code",
   "execution_count": 8,
   "id": "2ca07d57",
   "metadata": {},
   "outputs": [],
   "source": [
    "def dfs_postorder(self):\n",
    "    if self.left:\n",
    "        self.left.dfs_postorder()\n",
    "        \n",
    "    if self.right:\n",
    "        self.right.dfs_postorder()\n",
    "        \n",
    "    print(self.val)\n",
    "    \n",
    "TreeNode.dfs_postorder = dfs_postorder"
   ]
  },
  {
   "cell_type": "code",
   "execution_count": 9,
   "id": "611b1474",
   "metadata": {},
   "outputs": [
    {
     "name": "stdout",
     "output_type": "stream",
     "text": [
      "40\n",
      "30\n",
      "60\n",
      "20\n",
      "10\n",
      "50\n",
      "70\n"
     ]
    }
   ],
   "source": [
    "root.dfs_postorder()"
   ]
  },
  {
   "cell_type": "code",
   "execution_count": 3,
   "id": "25e67692",
   "metadata": {},
   "outputs": [
    {
     "name": "stdout",
     "output_type": "stream",
     "text": [
      "70\n",
      "60\n",
      "50\n",
      "40\n",
      "30\n",
      "20\n",
      "10\n"
     ]
    }
   ],
   "source": [
    "def bfs(self):\n",
    "    to_visit = [ self ]\n",
    "    while to_visit:\n",
    "        current = to_visit.pop(0)\n",
    "                               \n",
    "        print(current.val)\n",
    "                               \n",
    "        if current.left:\n",
    "            to_visit.append(current.left)\n",
    "        if current.right:\n",
    "            to_visit.append(current.right)\n",
    "        \n",
    "TreeNode.bfs = bfs\n",
    "root.bfs()\n"
   ]
  },
  {
   "cell_type": "code",
   "execution_count": 7,
   "id": "2690877c",
   "metadata": {},
   "outputs": [],
   "source": [
    "# perform arbitary function on tree nodes\n",
    "def dfs_apply(self, fn):\n",
    "    fn(self)\n",
    "    \n",
    "    if self.left:\n",
    "        self.left.dfs_apply(fn)\n",
    "    if self.right:\n",
    "        self.right.dfs_apply(fn)\n",
    "\n",
    "TreeNode.dfs_apply = dfs_apply"
   ]
  },
  {
   "cell_type": "code",
   "execution_count": 8,
   "id": "ba0b61b7",
   "metadata": {},
   "outputs": [],
   "source": [
    "class PerformSum:\n",
    "    def __init__(self):\n",
    "        self.sum = 0\n",
    "    def process(self, node):\n",
    "        self.sum += node.val\n",
    "    def get_sum(self):\n",
    "        return self.sum\n",
    "    def reset(self):\n",
    "        self.sum = 0\n",
    "\n",
    "p = PerformSum()"
   ]
  },
  {
   "cell_type": "code",
   "execution_count": 10,
   "id": "1cc8f44b",
   "metadata": {},
   "outputs": [
    {
     "name": "stdout",
     "output_type": "stream",
     "text": [
      "280\n"
     ]
    }
   ],
   "source": [
    "p.reset()\n",
    "root.dfs_apply(p.process)\n",
    "print(p.get_sum())"
   ]
  },
  {
   "cell_type": "code",
   "execution_count": 5,
   "id": "8eebd487",
   "metadata": {},
   "outputs": [],
   "source": [
    "class BST(TreeNode):\n",
    "    def __init__(self, val, parent=None):\n",
    "        super().__init__(val)    \n",
    "        self.parent = parent\n",
    "        \n",
    "    def insert(self, val):\n",
    "        if val < self.val:\n",
    "            if self.left is None:\n",
    "                new_node = BST(val)\n",
    "                self.left = new_node\n",
    "                new_node.parent = self\n",
    "            else:\n",
    "                self.left.insert(val)\n",
    "                \n",
    "        if val > self.val:\n",
    "            if self.right is None:\n",
    "                new_node = BST(val)\n",
    "                self.right = new_node\n",
    "                new_node.parent = self\n",
    "            else:\n",
    "                self.right.insert(val)\n",
    "\n",
    "    def search_in_bst(self, val):\n",
    "        if val == self.val:\n",
    "            return self.val\n",
    "        if val < self.val:\n",
    "            if self.left:\n",
    "                return self.left.search_in_bst(val)\n",
    "        elif val > self.val:\n",
    "            if self.right:\n",
    "                return self.right.search_in_bst(val)\n",
    "            \n",
    "                 \n",
    "b = BST(10)"
   ]
  },
  {
   "cell_type": "code",
   "execution_count": 13,
   "id": "3fb8075e",
   "metadata": {},
   "outputs": [
    {
     "name": "stdout",
     "output_type": "stream",
     "text": [
      ".:10\n",
      "  Left: .:5\n",
      "  Left: None\n",
      "      Right: None\n",
      "\n",
      "      Right: .:35\n",
      "  Left: .:23\n",
      "  Left: None\n",
      "      Right: None\n",
      "\n",
      "      Right: None\n",
      "\n",
      "\n"
     ]
    }
   ],
   "source": [
    "# print(b)\n",
    "# b.insert(23)\n",
    "# b.insert(5)\n",
    "# b.insert(35)\n",
    "\n",
    "print(b)"
   ]
  },
  {
   "cell_type": "code",
   "execution_count": 12,
   "id": "648c8005",
   "metadata": {},
   "outputs": [
    {
     "name": "stdout",
     "output_type": "stream",
     "text": [
      "35\n",
      "None\n"
     ]
    }
   ],
   "source": [
    "# print(b)\n",
    "print(b.search_in_bst(35))\n",
    "print(b.search_in_bst(2355))"
   ]
  },
  {
   "cell_type": "code",
   "execution_count": 14,
   "id": "db6c5a92",
   "metadata": {},
   "outputs": [],
   "source": [
    "# when you do in order traversal on BST, you get a sorted values back\n",
    "def dfs_inorder(self):\n",
    "    if self.left:\n",
    "        self.left.dfs_inorder()\n",
    "        \n",
    "    print(self.val)\n",
    "    \n",
    "    if self.right:\n",
    "        self.right.dfs_inorder()\n",
    "\n",
    "BST.dfs_inorder = dfs_inorder"
   ]
  },
  {
   "cell_type": "code",
   "execution_count": 15,
   "id": "17a3c115",
   "metadata": {},
   "outputs": [
    {
     "name": "stdout",
     "output_type": "stream",
     "text": [
      "5\n",
      "10\n",
      "23\n",
      "35\n"
     ]
    }
   ],
   "source": [
    "b.dfs_inorder()"
   ]
  },
  {
   "cell_type": "code",
   "execution_count": 18,
   "id": "422d9655",
   "metadata": {},
   "outputs": [],
   "source": [
    "\n",
    "def delete(self, val):\n",
    "    pass"
   ]
  }
 ],
 "metadata": {
  "kernelspec": {
   "display_name": "Python 3 (ipykernel)",
   "language": "python",
   "name": "python3"
  },
  "language_info": {
   "codemirror_mode": {
    "name": "ipython",
    "version": 3
   },
   "file_extension": ".py",
   "mimetype": "text/x-python",
   "name": "python",
   "nbconvert_exporter": "python",
   "pygments_lexer": "ipython3",
   "version": "3.10.4"
  }
 },
 "nbformat": 4,
 "nbformat_minor": 5
}
