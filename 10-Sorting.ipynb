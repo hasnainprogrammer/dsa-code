{
 "cells": [
  {
   "cell_type": "code",
   "execution_count": 1,
   "id": "b4f173ff",
   "metadata": {},
   "outputs": [],
   "source": [
    "def bubble_sort(l):\n",
    "    swapped = False\n",
    "    for i in range(len(l)):\n",
    "        print('Pass ', i)\n",
    "        for j in range(len(l) - 1):\n",
    "            if l[j] > l[j + 1]:\n",
    "                temp = l[j]\n",
    "                l[j] = l[j + 1]\n",
    "                l[j + 1] = temp\n",
    "                swapped = True\n",
    "        if not swapped:\n",
    "            break\n",
    "    return l"
   ]
  },
  {
   "cell_type": "code",
   "execution_count": 2,
   "id": "ccc8ece1",
   "metadata": {
    "scrolled": false
   },
   "outputs": [
    {
     "name": "stdout",
     "output_type": "stream",
     "text": [
      "Pass  0\n",
      "Pass  1\n",
      "Pass  2\n",
      "Pass  3\n",
      "Pass  4\n",
      "[9, 10, 15, 25, 33]\n"
     ]
    }
   ],
   "source": [
    "print(bubble_sort([25, 10, 9, 33, 15]))\n",
    "# print(bubble_sort([25, 35, 55]))"
   ]
  },
  {
   "cell_type": "code",
   "execution_count": 1,
   "id": "fd8b1232",
   "metadata": {},
   "outputs": [],
   "source": [
    "def insertion_sort(l):\n",
    "    for i in range(1, len(l)):\n",
    "        key = l[i]\n",
    "        j = i - 1\n",
    "        while j >= 0 and key < l[j]:\n",
    "            l[j + 1] = l[j]\n",
    "            j -= 1\n",
    "        l[j + 1] = key\n",
    "    return l\n",
    "    "
   ]
  },
  {
   "cell_type": "code",
   "execution_count": 2,
   "id": "d31974a3",
   "metadata": {},
   "outputs": [
    {
     "name": "stdout",
     "output_type": "stream",
     "text": [
      "[11, 20, 22, 33, 44]\n"
     ]
    }
   ],
   "source": [
    "print(insertion_sort([20, 44, 22, 33, 11]))"
   ]
  },
  {
   "cell_type": "code",
   "execution_count": 3,
   "id": "c271abb0",
   "metadata": {},
   "outputs": [],
   "source": [
    "def selection_sort(l):\n",
    "    n = len(l)\n",
    "    for i in range(n):\n",
    "        min_idx = i\n",
    "        for j in range(i+1, n):\n",
    "            if l[j] < l[min_idx]:\n",
    "                min_idx = j\n",
    "        l[i], l[min_idx] = l[min_idx], l[i] \n",
    "    return l\n",
    "    "
   ]
  },
  {
   "cell_type": "code",
   "execution_count": 5,
   "id": "c4ca9372",
   "metadata": {},
   "outputs": [
    {
     "name": "stdout",
     "output_type": "stream",
     "text": [
      "[3, 7, 10, 12]\n"
     ]
    }
   ],
   "source": [
    "print(selection_sort([10,12, 3, 7]))\n",
    "# print(selection_sort([20, 44, 22, 33, 11]))"
   ]
  },
  {
   "cell_type": "code",
   "execution_count": 27,
   "id": "470ffda2",
   "metadata": {},
   "outputs": [],
   "source": [
    "import random\n",
    "\n",
    "def quick_sort(l, fst, lst):\n",
    "    if fst >= lst: return \n",
    "    \n",
    "    i, j = fst, lst\n",
    "\n",
    "    pivot = l[random.randint(fst, lst)]\n",
    "#     print(pivot)\n",
    "\n",
    "    while i <= j:\n",
    "        while l[i] < pivot: i += 1\n",
    "        while l[j] > pivot: j -= 1\n",
    "        if i <= j:\n",
    "            l[i], l[j] = l[j], l[i]\n",
    "            i, j = i + 1, j - 1\n",
    "#     print(l)\n",
    "           \n",
    "    quick_sort(l, fst, j)\n",
    "    quick_sort(l, i, lst)\n",
    "    \n",
    "    return l\n",
    "    \n",
    "    "
   ]
  },
  {
   "cell_type": "code",
   "execution_count": 31,
   "id": "76bfb9a4",
   "metadata": {},
   "outputs": [
    {
     "name": "stdout",
     "output_type": "stream",
     "text": [
      "[0, 1, 2, 6, 7, 8, 9]\n"
     ]
    }
   ],
   "source": [
    "l = [8, 7, 6, 1, 0, 9, 2]\n",
    "print(quick_sort(l, 0, len(l) - 1))"
   ]
  }
 ],
 "metadata": {
  "kernelspec": {
   "display_name": "Python 3 (ipykernel)",
   "language": "python",
   "name": "python3"
  },
  "language_info": {
   "codemirror_mode": {
    "name": "ipython",
    "version": 3
   },
   "file_extension": ".py",
   "mimetype": "text/x-python",
   "name": "python",
   "nbconvert_exporter": "python",
   "pygments_lexer": "ipython3",
   "version": "3.10.4"
  }
 },
 "nbformat": 4,
 "nbformat_minor": 5
}
