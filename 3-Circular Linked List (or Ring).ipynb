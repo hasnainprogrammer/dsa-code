{
 "cells": [
  {
   "cell_type": "code",
   "execution_count": 1,
   "id": "12059094",
   "metadata": {},
   "outputs": [],
   "source": [
    "class Node:\n",
    "    def __init__(self, val):\n",
    "        self.val = val\n",
    "        self.next = None\n",
    "        \n",
    "class Ring:\n",
    "    def __init__(self):\n",
    "        self.head = None"
   ]
  },
  {
   "cell_type": "code",
   "execution_count": 2,
   "id": "150a7529",
   "metadata": {},
   "outputs": [],
   "source": [
    "r = Ring()"
   ]
  },
  {
   "cell_type": "code",
   "execution_count": 5,
   "id": "59161a85",
   "metadata": {},
   "outputs": [],
   "source": [
    "def __str__(self):\n",
    "    ret_str = \"[\"\n",
    "    temp = self.head\n",
    "#   case 1 if no nodes\n",
    "    while temp is not None:\n",
    "        ret_str += str(temp.val) + ', '\n",
    "        temp = temp.next\n",
    "#   case 2 if one node, case 3 if at least two nodes\n",
    "        if temp == self.head:\n",
    "            break\n",
    "    ret_str += \"]\"\n",
    "    return ret_str\n",
    "\n",
    "Ring.__str__ = __str__"
   ]
  },
  {
   "cell_type": "code",
   "execution_count": 6,
   "id": "01472c04",
   "metadata": {},
   "outputs": [],
   "source": [
    "def get_last(self):\n",
    "#   if no nodes\n",
    "    if self.head is None:\n",
    "        return None\n",
    "#   if one node\n",
    "    if self.head.next == self.head:\n",
    "        return self.head\n",
    "#   if at least two nodes\n",
    "    temp = self.head\n",
    "    while temp is not None:\n",
    "        if temp.next == self.head:\n",
    "            break\n",
    "        temp = temp.next\n",
    "    return temp\n",
    "        \n",
    "Ring.get_last = get_last"
   ]
  },
  {
   "cell_type": "code",
   "execution_count": 7,
   "id": "2193f408",
   "metadata": {},
   "outputs": [],
   "source": [
    "def insert(self, index, value):\n",
    "    new_node = Node(value)\n",
    "    last = self.get_last()\n",
    "#   case 1 if insertion at index 0\n",
    "    if index == 0:\n",
    "        print('Exec Case 1')\n",
    "        new_node.next = self.head\n",
    "        self.head = new_node\n",
    "        if last is None:\n",
    "            self.head.next = new_node\n",
    "        else:\n",
    "            last.next = new_node\n",
    "        return \n",
    "\n",
    "    temp = self.head \n",
    "    if temp is None and index > 0:\n",
    "        raise Exception('Cannot insert, list is empty.')\n",
    "#   case 2 if insertion at any position other than 0 index\n",
    "    print('Exec Case 2')\n",
    "    counter = 0\n",
    "    while temp is not None and counter < index:\n",
    "        prev = temp\n",
    "        temp = temp.next\n",
    "        counter += 1\n",
    "    prev.next = new_node\n",
    "    new_node.next = temp    \n",
    "    \n",
    "Ring.insert = insert"
   ]
  },
  {
   "cell_type": "code",
   "execution_count": 13,
   "id": "cfd177bc",
   "metadata": {},
   "outputs": [
    {
     "name": "stdout",
     "output_type": "stream",
     "text": [
      "[2600, 3400, 8400, 1100, ]\n",
      "Exec Case 1\n",
      "[2200, 2600, 3400, 8400, 1100, ]\n"
     ]
    }
   ],
   "source": [
    "print(r)\n",
    "r.insert(0, 2200)\n",
    "print(r)"
   ]
  },
  {
   "cell_type": "code",
   "execution_count": 16,
   "id": "fb86c0ec",
   "metadata": {},
   "outputs": [
    {
     "name": "stdout",
     "output_type": "stream",
     "text": [
      "[2600, 3400, 8400, 1100, ]\n",
      "Exec case 2\n",
      "[2600, 3400, 8400, ]\n"
     ]
    }
   ],
   "source": [
    "def remove(self, value):\n",
    "    last = self.get_last()\n",
    "#   if no nodes\n",
    "    if self.head is None:\n",
    "        return \n",
    "    temp = self.head\n",
    "#   case 1 if removed value found in the first node \n",
    "    if value == temp.val:\n",
    "        print('Exec case 1')\n",
    "#       if one node\n",
    "        if self.head == last:\n",
    "            self.head = None\n",
    "            return \n",
    "#       if at least two nodes\n",
    "        self.head = temp.next\n",
    "        last.next = self.head\n",
    "        return\n",
    "\n",
    "#   case 2 if remove from any position other than starting position\n",
    "    print('Exec case 2')\n",
    "    prev = temp\n",
    "    temp = temp.next\n",
    "    while temp != self.head:\n",
    "        if value == temp.val:\n",
    "            break\n",
    "        prev = temp\n",
    "        temp = temp.next\n",
    "        \n",
    "        \n",
    "    if temp == self.head:\n",
    "        return\n",
    "    prev.next = temp.next\n",
    "    \n",
    "\n",
    "Ring.remove = remove\n",
    "\n",
    "print(r)\n",
    "r.remove(1100)\n",
    "print(r)"
   ]
  },
  {
   "cell_type": "code",
   "execution_count": 17,
   "id": "2fa79371",
   "metadata": {},
   "outputs": [
    {
     "name": "stdout",
     "output_type": "stream",
     "text": [
      "[2600, 3400, 8400, ]\n",
      "3\n"
     ]
    }
   ],
   "source": [
    "def len(self):\n",
    "    temp = self.head\n",
    "    counter = 0\n",
    "    while temp is not None:\n",
    "        counter += 1\n",
    "        temp = temp.next\n",
    "        \n",
    "        if temp == self.head:\n",
    "            break\n",
    "    return counter\n",
    "\n",
    "Ring.len = len\n",
    "print(r)\n",
    "print(r.len())"
   ]
  },
  {
   "cell_type": "code",
   "execution_count": 22,
   "id": "6069a385",
   "metadata": {},
   "outputs": [
    {
     "name": "stdout",
     "output_type": "stream",
     "text": [
      "[2600, 3400, 8400, ]\n"
     ]
    }
   ],
   "source": [
    "def get(self, index):\n",
    "    counter = 0\n",
    "    temp = self.head\n",
    "    while temp is not None and counter < index:\n",
    "        temp = temp.next\n",
    "        counter += 1\n",
    "    return temp.val\n",
    "\n",
    "Ring.get = get\n",
    "\n",
    "print(r)\n",
    "r.get(1)"
   ]
  },
  {
   "cell_type": "code",
   "execution_count": 23,
   "id": "e115d374",
   "metadata": {},
   "outputs": [
    {
     "name": "stdout",
     "output_type": "stream",
     "text": [
      "[2600, 3400, 8400, ]\n",
      "[2600, 3400, 8400, 800, ]\n"
     ]
    }
   ],
   "source": [
    "def push(self, value):\n",
    "    new_node = Node(value)\n",
    "    if self.head is None:\n",
    "        self.head = new_node\n",
    "        new_node.next = self.head\n",
    "        return;\n",
    "    \n",
    "    if self.head.next == self.head:\n",
    "        self.head.next = new_node\n",
    "        new_node.next = self.head\n",
    "    temp = self.head\n",
    "    while temp is not None:\n",
    "        if temp.next == self.head:\n",
    "            break\n",
    "        temp = temp.next\n",
    "    temp.next = new_node\n",
    "    new_node.next = self.head\n",
    "    \n",
    "    \n",
    "Ring.push = push\n",
    "\n",
    "print(r)\n",
    "r.push(800)\n",
    "print(r)"
   ]
  }
 ],
 "metadata": {
  "kernelspec": {
   "display_name": "Python 3 (ipykernel)",
   "language": "python",
   "name": "python3"
  },
  "language_info": {
   "codemirror_mode": {
    "name": "ipython",
    "version": 3
   },
   "file_extension": ".py",
   "mimetype": "text/x-python",
   "name": "python",
   "nbconvert_exporter": "python",
   "pygments_lexer": "ipython3",
   "version": "3.10.4"
  }
 },
 "nbformat": 4,
 "nbformat_minor": 5
}
