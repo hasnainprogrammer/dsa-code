{
 "cells": [
  {
   "cell_type": "code",
   "execution_count": 3,
   "id": "629e4008",
   "metadata": {},
   "outputs": [],
   "source": [
    "def selection_sort(l):\n",
    "    n = len(l)\n",
    "    for i in range(n):\n",
    "        min_idx = i\n",
    "        for j in range(i+1, n):\n",
    "            if l[j] > l[min_idx]:\n",
    "                min_idx = j\n",
    "        l[i], l[min_idx] = l[min_idx], l[i] \n",
    "    return l\n",
    "    "
   ]
  },
  {
   "cell_type": "code",
   "execution_count": 4,
   "id": "56228d51",
   "metadata": {},
   "outputs": [
    {
     "name": "stdout",
     "output_type": "stream",
     "text": [
      "[12, 10, 7, 3]\n"
     ]
    }
   ],
   "source": [
    "print(selection_sort([10,12, 3, 7]))"
   ]
  },
  {
   "cell_type": "code",
   "execution_count": 5,
   "id": "d288ac7f",
   "metadata": {},
   "outputs": [],
   "source": [
    "def less_than(a, b):\n",
    "    return a < b"
   ]
  },
  {
   "cell_type": "code",
   "execution_count": 11,
   "id": "52561ecd",
   "metadata": {},
   "outputs": [],
   "source": [
    "def greater_than(a, b):\n",
    "    return a > b"
   ]
  },
  {
   "cell_type": "code",
   "execution_count": 19,
   "id": "335ff518",
   "metadata": {},
   "outputs": [],
   "source": [
    "def selection_sort(l, compare_with):\n",
    "    n = len(l)\n",
    "    for i in range(n):\n",
    "        min_idx = i\n",
    "        for j in range(i+1, n):\n",
    "            if compare_with(l[j], l[min_idx]):\n",
    "                min_idx = j\n",
    "        l[i], l[min_idx] = l[min_idx], l[i] \n",
    "    return l\n",
    "    "
   ]
  },
  {
   "cell_type": "code",
   "execution_count": 24,
   "id": "dc20f052",
   "metadata": {},
   "outputs": [
    {
     "name": "stdout",
     "output_type": "stream",
     "text": [
      "[3, 7, 10, 12]\n",
      "[12, 10, 7, 3]\n"
     ]
    }
   ],
   "source": [
    "l = [10, 12, 3, 7]\n",
    "selection_sort(l, less_than)\n",
    "print(l)\n",
    "selection_sort(l, greater_than)\n",
    "print(l)"
   ]
  },
  {
   "cell_type": "code",
   "execution_count": 28,
   "id": "f4462192",
   "metadata": {},
   "outputs": [],
   "source": [
    "# we can take it even further, we can now sort tuples, dictionaries etc as well\n",
    "def tuple_less_than(a, b):\n",
    "    return sum(a) < sum(b)"
   ]
  },
  {
   "cell_type": "code",
   "execution_count": 27,
   "id": "62e663f9",
   "metadata": {},
   "outputs": [
    {
     "data": {
      "text/plain": [
       "[(2, 3), (4, 5), (9, 5), (7, 9)]"
      ]
     },
     "execution_count": 27,
     "metadata": {},
     "output_type": "execute_result"
    }
   ],
   "source": [
    "l = [(4, 5), (7, 9), (2, 3), (9, 5)]\n",
    "selection_sort(l, tuple_less_than)"
   ]
  },
  {
   "cell_type": "code",
   "execution_count": 30,
   "id": "16dcf7e6",
   "metadata": {},
   "outputs": [],
   "source": [
    "def dict_less_than(a, b):\n",
    "    return a['age'] < b['age']"
   ]
  },
  {
   "cell_type": "code",
   "execution_count": 31,
   "id": "5782b84e",
   "metadata": {},
   "outputs": [
    {
     "data": {
      "text/plain": [
       "[{'name': 'saeed', 'age': 18},\n",
       " {'name': 'ali', 'age': 22},\n",
       " {'name': 'yasir', 'age': 27},\n",
       " {'name': 'ahmad', 'age': 33}]"
      ]
     },
     "execution_count": 31,
     "metadata": {},
     "output_type": "execute_result"
    }
   ],
   "source": [
    "selection_sort(students, dict_less_than)"
   ]
  },
  {
   "cell_type": "markdown",
   "id": "2d655380",
   "metadata": {},
   "source": [
    "# Python way of Sorting"
   ]
  },
  {
   "cell_type": "code",
   "execution_count": 33,
   "id": "73ca7922",
   "metadata": {},
   "outputs": [],
   "source": [
    "# You have to understand this, in practice you will do this\n",
    "students = [\n",
    "    {'name': 'ali', 'age': 22},\n",
    "    {'name': 'ahmad', 'age': 33},\n",
    "    {'name': 'saeed', 'age': 18},\n",
    "    {'name': 'yasir', 'age': 27},\n",
    "    \n",
    "]"
   ]
  },
  {
   "cell_type": "code",
   "execution_count": 39,
   "id": "7903defd",
   "metadata": {},
   "outputs": [],
   "source": [
    "def student_age(a):\n",
    "    return a['age']"
   ]
  },
  {
   "cell_type": "code",
   "execution_count": 42,
   "id": "c5f26813",
   "metadata": {},
   "outputs": [
    {
     "name": "stdout",
     "output_type": "stream",
     "text": [
      "[{'name': 'ahmad', 'age': 33}, {'name': 'yasir', 'age': 27}, {'name': 'ali', 'age': 22}, {'name': 'saeed', 'age': 18}]\n"
     ]
    }
   ],
   "source": [
    "students.sort(key=student_age, reverse=True)\n",
    "print(students)"
   ]
  },
  {
   "cell_type": "markdown",
   "id": "cc8bf57c",
   "metadata": {},
   "source": [
    "# Sorting Objects of Custom Classes"
   ]
  },
  {
   "cell_type": "code",
   "execution_count": 47,
   "id": "50fe764d",
   "metadata": {},
   "outputs": [],
   "source": [
    "class Student:\n",
    "    def __init__(self, name, age):\n",
    "        self.name = name\n",
    "        self.age = age        \n",
    "    def __str__(self):\n",
    "        return f'{self.name}: {self.age}'"
   ]
  },
  {
   "cell_type": "code",
   "execution_count": 48,
   "id": "a333cbca",
   "metadata": {},
   "outputs": [],
   "source": [
    "s1 = Student('saeed', 18)\n",
    "s2 = Student('hanzala', 14)\n",
    "s3 = Student('yasir', 28)\n",
    "s = [s1, s2, s3]"
   ]
  },
  {
   "cell_type": "code",
   "execution_count": 52,
   "id": "d331e14e",
   "metadata": {},
   "outputs": [],
   "source": [
    "# we don't even have to give the function a name -- just use the anonymous function like so:\n",
    "s.sort(key=lambda x: x.age)"
   ]
  },
  {
   "cell_type": "code",
   "execution_count": 50,
   "id": "78205a29",
   "metadata": {},
   "outputs": [
    {
     "name": "stdout",
     "output_type": "stream",
     "text": [
      "hanzala: 14\n",
      "saeed: 18\n",
      "yasir: 28\n"
     ]
    }
   ],
   "source": [
    "for i in s:\n",
    "    print(i)"
   ]
  },
  {
   "cell_type": "markdown",
   "id": "4c85c1ac",
   "metadata": {},
   "source": [
    "# Anonymous Function"
   ]
  },
  {
   "cell_type": "code",
   "execution_count": 51,
   "id": "39ddeec9",
   "metadata": {},
   "outputs": [
    {
     "name": "stdout",
     "output_type": "stream",
     "text": [
      "[{'name': 'ahmad', 'age': 33}, {'name': 'yasir', 'age': 27}, {'name': 'ali', 'age': 22}, {'name': 'saeed', 'age': 18}]\n",
      "[{'name': 'saeed', 'age': 18}, {'name': 'ali', 'age': 22}, {'name': 'yasir', 'age': 27}, {'name': 'ahmad', 'age': 33}]\n"
     ]
    }
   ],
   "source": [
    "print(students)\n",
    "students.sort(key=lambda x: x['age'])\n",
    "print(students)"
   ]
  },
  {
   "cell_type": "code",
   "execution_count": null,
   "id": "5167f910",
   "metadata": {},
   "outputs": [],
   "source": []
  }
 ],
 "metadata": {
  "kernelspec": {
   "display_name": "Python 3 (ipykernel)",
   "language": "python",
   "name": "python3"
  },
  "language_info": {
   "codemirror_mode": {
    "name": "ipython",
    "version": 3
   },
   "file_extension": ".py",
   "mimetype": "text/x-python",
   "name": "python",
   "nbconvert_exporter": "python",
   "pygments_lexer": "ipython3",
   "version": "3.10.4"
  }
 },
 "nbformat": 4,
 "nbformat_minor": 5
}
