{
 "cells": [
  {
   "cell_type": "code",
   "execution_count": 1,
   "id": "8b9a678c",
   "metadata": {},
   "outputs": [
    {
     "data": {
      "text/plain": [
       "5"
      ]
     },
     "execution_count": 1,
     "metadata": {},
     "output_type": "execute_result"
    }
   ],
   "source": [
    "# variable\n",
    "x = 5\n",
    "x"
   ]
  },
  {
   "cell_type": "code",
   "execution_count": 3,
   "id": "2eb8d336",
   "metadata": {},
   "outputs": [
    {
     "name": "stdout",
     "output_type": "stream",
     "text": [
      "4\n"
     ]
    }
   ],
   "source": [
    "# function\n",
    "def square(n):\n",
    "    return n ** 2\n",
    "\n",
    "print(square(2))"
   ]
  },
  {
   "cell_type": "code",
   "execution_count": 4,
   "id": "3d7c3891",
   "metadata": {},
   "outputs": [
    {
     "name": "stdout",
     "output_type": "stream",
     "text": [
      "Enter your age: 18\n",
      "you can Vote\n"
     ]
    }
   ],
   "source": [
    "# conditional statement\n",
    "age = int(input('Enter your age: '))\n",
    "if age > 18:\n",
    "    print('You can Vote')\n",
    "elif age == 18:\n",
    "    print('you can Vote')\n",
    "else:\n",
    "    print('You cannot Vote')"
   ]
  },
  {
   "cell_type": "code",
   "execution_count": 6,
   "id": "ef1cdfa2",
   "metadata": {},
   "outputs": [
    {
     "name": "stdout",
     "output_type": "stream",
     "text": [
      "0\n",
      "1\n",
      "2\n",
      "3\n",
      "4\n"
     ]
    }
   ],
   "source": [
    "# while loop\n",
    "i = 0\n",
    "while i < 5:\n",
    "    print(i)\n",
    "    i += 1"
   ]
  },
  {
   "cell_type": "code",
   "execution_count": 7,
   "id": "08732329",
   "metadata": {},
   "outputs": [
    {
     "name": "stdout",
     "output_type": "stream",
     "text": [
      "0\n",
      "1\n",
      "2\n",
      "3\n",
      "4\n"
     ]
    }
   ],
   "source": [
    "# for loop (range)\n",
    "for i in range(0, 5):\n",
    "    print(i)"
   ]
  },
  {
   "cell_type": "code",
   "execution_count": 12,
   "id": "936d2c3c",
   "metadata": {},
   "outputs": [
    {
     "data": {
      "text/plain": [
       "2"
      ]
     },
     "execution_count": 12,
     "metadata": {},
     "output_type": "execute_result"
    }
   ],
   "source": [
    "# list\n",
    "l = [1, 2, 3]\n",
    "l[1]"
   ]
  },
  {
   "cell_type": "code",
   "execution_count": 9,
   "id": "dde67b25",
   "metadata": {},
   "outputs": [
    {
     "name": "stdout",
     "output_type": "stream",
     "text": [
      "apple\n",
      "mango\n",
      "orange\n"
     ]
    }
   ],
   "source": [
    "# loop through a list\n",
    "for item in ['apple', 'mango', 'orange']:\n",
    "    print(item)"
   ]
  },
  {
   "cell_type": "code",
   "execution_count": 15,
   "id": "319527aa",
   "metadata": {},
   "outputs": [
    {
     "data": {
      "text/plain": [
       "dict_items([('name', 'babar'), ('age', 19)])"
      ]
     },
     "execution_count": 15,
     "metadata": {},
     "output_type": "execute_result"
    }
   ],
   "source": [
    "# dictionary\n",
    "student = {\"name\": 'babar', 'age': 19 }\n",
    "# student\n",
    "# student['age']\n",
    "# student.keys()\n",
    "# student.values()\n",
    "student.items()"
   ]
  },
  {
   "cell_type": "code",
   "execution_count": 23,
   "id": "e1f812ed",
   "metadata": {},
   "outputs": [
    {
     "name": "stdout",
     "output_type": "stream",
     "text": [
      "Name: babar\n",
      "Age: 19\n"
     ]
    }
   ],
   "source": [
    "# loop through a dictionary\n",
    "# for k in student:\n",
    "#     print(k)\n",
    "\n",
    "for k, v in student.items():\n",
    "    print(f'{k.capitalize()}: {v}')"
   ]
  },
  {
   "cell_type": "code",
   "execution_count": 55,
   "id": "d1e3c3e5",
   "metadata": {},
   "outputs": [
    {
     "data": {
      "text/plain": [
       "[(2, 4), (3, 9), (4, 16)]"
      ]
     },
     "execution_count": 55,
     "metadata": {},
     "output_type": "execute_result"
    }
   ],
   "source": [
    "# zip --> zip or (join) the corresponding elements of two list. it is very memory efficient because it only zip the elements\n",
    "# when you tell them explicitly e.g: (list(zip(a, b))) otherwise it does not zip the elements \n",
    "numbers = [2, 3, 4]\n",
    "sqaures = [4, 9, 16, 34, 74, 55]\n",
    "nums_squares = list(zip(numbers, sqaures))\n",
    "nums_squares"
   ]
  },
  {
   "cell_type": "code",
   "execution_count": 63,
   "id": "b1fde270",
   "metadata": {},
   "outputs": [],
   "source": [
    "# => zip Real World Case Study - Database Entry\n",
    "fields = ['id', 'name', 'country']\n",
    "values = [1, 'Babar', 'Pakistan']\n",
    "entry = dict(zip(fields, values))\n",
    "# entry\n",
    "\n",
    "# => MANUAL SOLUTION\n",
    "# d = {}\n",
    "# for i in range(0, len(fields)):\n",
    "#     d[fields[i]] = values[i]\n",
    "# d\n",
    "\n",
    "# = > Another Case Study - Join First and Last Names Together\n",
    "# first_names = ['babar', 'shadab', 'shaheen']\n",
    "# second_names = ['azam', 'khan', 'afridi']\n",
    "# names = list(zip(first_names, second_names))\n",
    "# full_names = []\n",
    "# for first, second in names:\n",
    "#     full_names.append(f'{first.capitalize()} {second.capitalize()}')\n",
    "# full_names"
   ]
  },
  {
   "cell_type": "code",
   "execution_count": 62,
   "id": "4dc1268d",
   "metadata": {},
   "outputs": [
    {
     "data": {
      "text/plain": [
       "['Babar Azam', 'Shadab Khan', 'Shaheen Afridi']"
      ]
     },
     "execution_count": 62,
     "metadata": {},
     "output_type": "execute_result"
    }
   ],
   "source": []
  }
 ],
 "metadata": {
  "kernelspec": {
   "display_name": "Python 3 (ipykernel)",
   "language": "python",
   "name": "python3"
  },
  "language_info": {
   "codemirror_mode": {
    "name": "ipython",
    "version": 3
   },
   "file_extension": ".py",
   "mimetype": "text/x-python",
   "name": "python",
   "nbconvert_exporter": "python",
   "pygments_lexer": "ipython3",
   "version": "3.10.4"
  }
 },
 "nbformat": 4,
 "nbformat_minor": 5
}
